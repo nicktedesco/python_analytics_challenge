{
  "nbformat": 4,
  "nbformat_minor": 0,
  "metadata": {
    "colab": {
      "provenance": []
    },
    "kernelspec": {
      "name": "python3",
      "display_name": "Python 3"
    },
    "language_info": {
      "name": "python"
    }
  },
  "cells": [
    {
      "cell_type": "markdown",
      "source": [
        "# **Final Project: Analytics Challenge**"
      ],
      "metadata": {
        "id": "TaozdYAoyAE2"
      }
    },
    {
      "cell_type": "markdown",
      "source": [
        "Nicholas Tedesco\n",
        "\n",
        "nrt21@pitt.edu"
      ],
      "metadata": {
        "id": "PwGREWs3yIQx"
      }
    },
    {
      "cell_type": "markdown",
      "source": [
        "## Project Overview"
      ],
      "metadata": {
        "id": "ka680BUDSU9Z"
      }
    },
    {
      "cell_type": "markdown",
      "source": [
        "For this project, I am interested in examining the relationships between perhaps trivial general health habits (ex: eating vegetables, drinking soda, etc.) and the much more serious topic of suicidal consideration. Without any further information, I might hypothesize that those who practice healthier habits are less likely to consider suicide. \n",
        "\n",
        "After taking a look at these relationships through exploratory data analysis (pairplot visualization and modeling for the purpose of interpretation), I will construct a predictive model to forecast the outcome variable. In contrast to the exploratory modeling, which will be performed for the purpose of relationship interpretation, the predictive model will sacrifice interpretability for accuracy by using more advanced classification methods. \n",
        "\n",
        "I will use the district-level dataset to perform these analyses. "
      ],
      "metadata": {
        "id": "aIi1Nh88SWwf"
      }
    },
    {
      "cell_type": "markdown",
      "source": [
        "To begin, let's load the data and our packages. "
      ],
      "metadata": {
        "id": "QuSXFz8-TWNf"
      }
    },
    {
      "cell_type": "markdown",
      "source": [
        "## Package and Data Loading"
      ],
      "metadata": {
        "id": "hp55dlfgyNae"
      }
    },
    {
      "cell_type": "code",
      "source": [
        "!pip install dmba"
      ],
      "metadata": {
        "colab": {
          "base_uri": "https://localhost:8080/"
        },
        "id": "TngNCLcWvK5U",
        "outputId": "26cd5be4-0926-4a65-bb85-de2e085ca77c"
      },
      "execution_count": null,
      "outputs": [
        {
          "output_type": "stream",
          "name": "stdout",
          "text": [
            "Looking in indexes: https://pypi.org/simple, https://us-python.pkg.dev/colab-wheels/public/simple/\n",
            "Collecting dmba\n",
            "  Downloading dmba-0.1.0-py3-none-any.whl (11.8 MB)\n",
            "\u001b[K     |████████████████████████████████| 11.8 MB 2.4 MB/s \n",
            "\u001b[?25hInstalling collected packages: dmba\n",
            "Successfully installed dmba-0.1.0\n"
          ]
        }
      ]
    },
    {
      "cell_type": "code",
      "source": [
        "## core packages\n",
        "import pandas as pd\n",
        "import numpy as np\n",
        "import matplotlib.pyplot as plt\n",
        "%matplotlib inline\n",
        "import seaborn as sns\n",
        "\n",
        "## logistic regression with statsmodels\n",
        "import statsmodels.api as sm\n",
        "\n",
        "# classification with scikit-learn:\n",
        "from sklearn import preprocessing\n",
        "from sklearn.model_selection import KFold\n",
        "from sklearn.metrics import mean_squared_error, r2_score, confusion_matrix, \\\n",
        "        classification_report, precision_score, \\\n",
        "        accuracy_score, roc_curve, roc_auc_score\n",
        "from sklearn.model_selection import train_test_split, cross_validate, cross_val_score\n",
        "from sklearn.tree import DecisionTreeClassifier, DecisionTreeRegressor\n",
        "from sklearn.ensemble import RandomForestClassifier, RandomForestRegressor, \\\n",
        "        BaggingClassifier, BaggingRegressor, \\\n",
        "        GradientBoostingRegressor, GradientBoostingClassifier\n",
        "\n",
        "## classification model evaluation\n",
        "from dmba import classificationSummary\n",
        "\n",
        "pd.set_option('display.max_rows', None)"
      ],
      "metadata": {
        "id": "8bl0yoiMzV_v"
      },
      "execution_count": null,
      "outputs": []
    },
    {
      "cell_type": "code",
      "source": [
        "from google.colab import files\n",
        "uploaded = files.upload()"
      ],
      "metadata": {
        "colab": {
          "base_uri": "https://localhost:8080/",
          "height": 74
        },
        "id": "T3Rs4xlIySmA",
        "outputId": "2db31d9f-244e-457b-980b-ca279bc1fe19"
      },
      "execution_count": null,
      "outputs": [
        {
          "output_type": "display_data",
          "data": {
            "text/plain": [
              "<IPython.core.display.HTML object>"
            ],
            "text/html": [
              "\n",
              "     <input type=\"file\" id=\"files-244f7472-20c1-44d5-8032-f592447f445a\" name=\"files[]\" multiple disabled\n",
              "        style=\"border:none\" />\n",
              "     <output id=\"result-244f7472-20c1-44d5-8032-f592447f445a\">\n",
              "      Upload widget is only available when the cell has been executed in the\n",
              "      current browser session. Please rerun this cell to enable.\n",
              "      </output>\n",
              "      <script>// Copyright 2017 Google LLC\n",
              "//\n",
              "// Licensed under the Apache License, Version 2.0 (the \"License\");\n",
              "// you may not use this file except in compliance with the License.\n",
              "// You may obtain a copy of the License at\n",
              "//\n",
              "//      http://www.apache.org/licenses/LICENSE-2.0\n",
              "//\n",
              "// Unless required by applicable law or agreed to in writing, software\n",
              "// distributed under the License is distributed on an \"AS IS\" BASIS,\n",
              "// WITHOUT WARRANTIES OR CONDITIONS OF ANY KIND, either express or implied.\n",
              "// See the License for the specific language governing permissions and\n",
              "// limitations under the License.\n",
              "\n",
              "/**\n",
              " * @fileoverview Helpers for google.colab Python module.\n",
              " */\n",
              "(function(scope) {\n",
              "function span(text, styleAttributes = {}) {\n",
              "  const element = document.createElement('span');\n",
              "  element.textContent = text;\n",
              "  for (const key of Object.keys(styleAttributes)) {\n",
              "    element.style[key] = styleAttributes[key];\n",
              "  }\n",
              "  return element;\n",
              "}\n",
              "\n",
              "// Max number of bytes which will be uploaded at a time.\n",
              "const MAX_PAYLOAD_SIZE = 100 * 1024;\n",
              "\n",
              "function _uploadFiles(inputId, outputId) {\n",
              "  const steps = uploadFilesStep(inputId, outputId);\n",
              "  const outputElement = document.getElementById(outputId);\n",
              "  // Cache steps on the outputElement to make it available for the next call\n",
              "  // to uploadFilesContinue from Python.\n",
              "  outputElement.steps = steps;\n",
              "\n",
              "  return _uploadFilesContinue(outputId);\n",
              "}\n",
              "\n",
              "// This is roughly an async generator (not supported in the browser yet),\n",
              "// where there are multiple asynchronous steps and the Python side is going\n",
              "// to poll for completion of each step.\n",
              "// This uses a Promise to block the python side on completion of each step,\n",
              "// then passes the result of the previous step as the input to the next step.\n",
              "function _uploadFilesContinue(outputId) {\n",
              "  const outputElement = document.getElementById(outputId);\n",
              "  const steps = outputElement.steps;\n",
              "\n",
              "  const next = steps.next(outputElement.lastPromiseValue);\n",
              "  return Promise.resolve(next.value.promise).then((value) => {\n",
              "    // Cache the last promise value to make it available to the next\n",
              "    // step of the generator.\n",
              "    outputElement.lastPromiseValue = value;\n",
              "    return next.value.response;\n",
              "  });\n",
              "}\n",
              "\n",
              "/**\n",
              " * Generator function which is called between each async step of the upload\n",
              " * process.\n",
              " * @param {string} inputId Element ID of the input file picker element.\n",
              " * @param {string} outputId Element ID of the output display.\n",
              " * @return {!Iterable<!Object>} Iterable of next steps.\n",
              " */\n",
              "function* uploadFilesStep(inputId, outputId) {\n",
              "  const inputElement = document.getElementById(inputId);\n",
              "  inputElement.disabled = false;\n",
              "\n",
              "  const outputElement = document.getElementById(outputId);\n",
              "  outputElement.innerHTML = '';\n",
              "\n",
              "  const pickedPromise = new Promise((resolve) => {\n",
              "    inputElement.addEventListener('change', (e) => {\n",
              "      resolve(e.target.files);\n",
              "    });\n",
              "  });\n",
              "\n",
              "  const cancel = document.createElement('button');\n",
              "  inputElement.parentElement.appendChild(cancel);\n",
              "  cancel.textContent = 'Cancel upload';\n",
              "  const cancelPromise = new Promise((resolve) => {\n",
              "    cancel.onclick = () => {\n",
              "      resolve(null);\n",
              "    };\n",
              "  });\n",
              "\n",
              "  // Wait for the user to pick the files.\n",
              "  const files = yield {\n",
              "    promise: Promise.race([pickedPromise, cancelPromise]),\n",
              "    response: {\n",
              "      action: 'starting',\n",
              "    }\n",
              "  };\n",
              "\n",
              "  cancel.remove();\n",
              "\n",
              "  // Disable the input element since further picks are not allowed.\n",
              "  inputElement.disabled = true;\n",
              "\n",
              "  if (!files) {\n",
              "    return {\n",
              "      response: {\n",
              "        action: 'complete',\n",
              "      }\n",
              "    };\n",
              "  }\n",
              "\n",
              "  for (const file of files) {\n",
              "    const li = document.createElement('li');\n",
              "    li.append(span(file.name, {fontWeight: 'bold'}));\n",
              "    li.append(span(\n",
              "        `(${file.type || 'n/a'}) - ${file.size} bytes, ` +\n",
              "        `last modified: ${\n",
              "            file.lastModifiedDate ? file.lastModifiedDate.toLocaleDateString() :\n",
              "                                    'n/a'} - `));\n",
              "    const percent = span('0% done');\n",
              "    li.appendChild(percent);\n",
              "\n",
              "    outputElement.appendChild(li);\n",
              "\n",
              "    const fileDataPromise = new Promise((resolve) => {\n",
              "      const reader = new FileReader();\n",
              "      reader.onload = (e) => {\n",
              "        resolve(e.target.result);\n",
              "      };\n",
              "      reader.readAsArrayBuffer(file);\n",
              "    });\n",
              "    // Wait for the data to be ready.\n",
              "    let fileData = yield {\n",
              "      promise: fileDataPromise,\n",
              "      response: {\n",
              "        action: 'continue',\n",
              "      }\n",
              "    };\n",
              "\n",
              "    // Use a chunked sending to avoid message size limits. See b/62115660.\n",
              "    let position = 0;\n",
              "    do {\n",
              "      const length = Math.min(fileData.byteLength - position, MAX_PAYLOAD_SIZE);\n",
              "      const chunk = new Uint8Array(fileData, position, length);\n",
              "      position += length;\n",
              "\n",
              "      const base64 = btoa(String.fromCharCode.apply(null, chunk));\n",
              "      yield {\n",
              "        response: {\n",
              "          action: 'append',\n",
              "          file: file.name,\n",
              "          data: base64,\n",
              "        },\n",
              "      };\n",
              "\n",
              "      let percentDone = fileData.byteLength === 0 ?\n",
              "          100 :\n",
              "          Math.round((position / fileData.byteLength) * 100);\n",
              "      percent.textContent = `${percentDone}% done`;\n",
              "\n",
              "    } while (position < fileData.byteLength);\n",
              "  }\n",
              "\n",
              "  // All done.\n",
              "  yield {\n",
              "    response: {\n",
              "      action: 'complete',\n",
              "    }\n",
              "  };\n",
              "}\n",
              "\n",
              "scope.google = scope.google || {};\n",
              "scope.google.colab = scope.google.colab || {};\n",
              "scope.google.colab._files = {\n",
              "  _uploadFiles,\n",
              "  _uploadFilesContinue,\n",
              "};\n",
              "})(self);\n",
              "</script> "
            ]
          },
          "metadata": {}
        },
        {
          "output_type": "stream",
          "name": "stdout",
          "text": [
            "Saving yrbss_districts_2019.csv to yrbss_districts_2019.csv\n"
          ]
        }
      ]
    },
    {
      "cell_type": "code",
      "source": [
        "districtData = pd.read_csv(\"yrbss_districts_2019.csv\")"
      ],
      "metadata": {
        "id": "TvM-zEa5zKLy"
      },
      "execution_count": null,
      "outputs": []
    },
    {
      "cell_type": "markdown",
      "source": [
        "## Data Inspection"
      ],
      "metadata": {
        "id": "zH3mz9BQ-33a"
      }
    },
    {
      "cell_type": "markdown",
      "source": [
        "Let's take a look at the data. "
      ],
      "metadata": {
        "id": "OmwADHvg-6LY"
      }
    },
    {
      "cell_type": "code",
      "source": [
        "districtData.head()"
      ],
      "metadata": {
        "colab": {
          "base_uri": "https://localhost:8080/",
          "height": 386
        },
        "id": "CIjBERg3zm8F",
        "outputId": "d62222fb-6a75-4c5b-eec9-7c87e4ab6089"
      },
      "execution_count": null,
      "outputs": [
        {
          "output_type": "execute_result",
          "data": {
            "text/plain": [
              "  sitecode          sitename  sitetype  sitetypenum    year  survyear  \\\n",
              "0       CH  Chicago, IL (CH)  District          1.0  1991.0       1.0   \n",
              "1       CH  Chicago, IL (CH)  District          1.0  1991.0       1.0   \n",
              "2       CH  Chicago, IL (CH)  District          1.0  1991.0       1.0   \n",
              "3       CH  Chicago, IL (CH)  District          1.0  1991.0       1.0   \n",
              "4       CH  Chicago, IL (CH)  District          1.0  1991.0       1.0   \n",
              "\n",
              "    weight  stratum   PSU  record  ...  qwenthungry  qmusclestrength  \\\n",
              "0  76.7361      1.0  14.0  3972.0  ...          NaN              2.0   \n",
              "1  58.4872      1.0  39.0  7364.0  ...          NaN              1.0   \n",
              "2  40.1190      1.0  29.0  7365.0  ...          NaN              8.0   \n",
              "3  72.2433      1.0  28.0  7366.0  ...          NaN              8.0   \n",
              "4  73.3721      1.0   4.0  9648.0  ...          NaN              2.0   \n",
              "\n",
              "   qsunscreenuse  qindoortanning  qsunburn  qconcentrating  qcurrentasthma  \\\n",
              "0            NaN             NaN       NaN             NaN             NaN   \n",
              "1            NaN             NaN       NaN             NaN             NaN   \n",
              "2            NaN             NaN       NaN             NaN             NaN   \n",
              "3            NaN             NaN       NaN             NaN             NaN   \n",
              "4            NaN             NaN       NaN             NaN             NaN   \n",
              "\n",
              "   qwheresleep  qspeakenglish  qtransgender  \n",
              "0          NaN            NaN           NaN  \n",
              "1          NaN            NaN           NaN  \n",
              "2          NaN            NaN           NaN  \n",
              "3          NaN            NaN           NaN  \n",
              "4          NaN            NaN           NaN  \n",
              "\n",
              "[5 rows x 151 columns]"
            ],
            "text/html": [
              "\n",
              "  <div id=\"df-9ae112b8-5100-4592-b14c-5d4368c88206\">\n",
              "    <div class=\"colab-df-container\">\n",
              "      <div>\n",
              "<style scoped>\n",
              "    .dataframe tbody tr th:only-of-type {\n",
              "        vertical-align: middle;\n",
              "    }\n",
              "\n",
              "    .dataframe tbody tr th {\n",
              "        vertical-align: top;\n",
              "    }\n",
              "\n",
              "    .dataframe thead th {\n",
              "        text-align: right;\n",
              "    }\n",
              "</style>\n",
              "<table border=\"1\" class=\"dataframe\">\n",
              "  <thead>\n",
              "    <tr style=\"text-align: right;\">\n",
              "      <th></th>\n",
              "      <th>sitecode</th>\n",
              "      <th>sitename</th>\n",
              "      <th>sitetype</th>\n",
              "      <th>sitetypenum</th>\n",
              "      <th>year</th>\n",
              "      <th>survyear</th>\n",
              "      <th>weight</th>\n",
              "      <th>stratum</th>\n",
              "      <th>PSU</th>\n",
              "      <th>record</th>\n",
              "      <th>...</th>\n",
              "      <th>qwenthungry</th>\n",
              "      <th>qmusclestrength</th>\n",
              "      <th>qsunscreenuse</th>\n",
              "      <th>qindoortanning</th>\n",
              "      <th>qsunburn</th>\n",
              "      <th>qconcentrating</th>\n",
              "      <th>qcurrentasthma</th>\n",
              "      <th>qwheresleep</th>\n",
              "      <th>qspeakenglish</th>\n",
              "      <th>qtransgender</th>\n",
              "    </tr>\n",
              "  </thead>\n",
              "  <tbody>\n",
              "    <tr>\n",
              "      <th>0</th>\n",
              "      <td>CH</td>\n",
              "      <td>Chicago, IL (CH)</td>\n",
              "      <td>District</td>\n",
              "      <td>1.0</td>\n",
              "      <td>1991.0</td>\n",
              "      <td>1.0</td>\n",
              "      <td>76.7361</td>\n",
              "      <td>1.0</td>\n",
              "      <td>14.0</td>\n",
              "      <td>3972.0</td>\n",
              "      <td>...</td>\n",
              "      <td>NaN</td>\n",
              "      <td>2.0</td>\n",
              "      <td>NaN</td>\n",
              "      <td>NaN</td>\n",
              "      <td>NaN</td>\n",
              "      <td>NaN</td>\n",
              "      <td>NaN</td>\n",
              "      <td>NaN</td>\n",
              "      <td>NaN</td>\n",
              "      <td>NaN</td>\n",
              "    </tr>\n",
              "    <tr>\n",
              "      <th>1</th>\n",
              "      <td>CH</td>\n",
              "      <td>Chicago, IL (CH)</td>\n",
              "      <td>District</td>\n",
              "      <td>1.0</td>\n",
              "      <td>1991.0</td>\n",
              "      <td>1.0</td>\n",
              "      <td>58.4872</td>\n",
              "      <td>1.0</td>\n",
              "      <td>39.0</td>\n",
              "      <td>7364.0</td>\n",
              "      <td>...</td>\n",
              "      <td>NaN</td>\n",
              "      <td>1.0</td>\n",
              "      <td>NaN</td>\n",
              "      <td>NaN</td>\n",
              "      <td>NaN</td>\n",
              "      <td>NaN</td>\n",
              "      <td>NaN</td>\n",
              "      <td>NaN</td>\n",
              "      <td>NaN</td>\n",
              "      <td>NaN</td>\n",
              "    </tr>\n",
              "    <tr>\n",
              "      <th>2</th>\n",
              "      <td>CH</td>\n",
              "      <td>Chicago, IL (CH)</td>\n",
              "      <td>District</td>\n",
              "      <td>1.0</td>\n",
              "      <td>1991.0</td>\n",
              "      <td>1.0</td>\n",
              "      <td>40.1190</td>\n",
              "      <td>1.0</td>\n",
              "      <td>29.0</td>\n",
              "      <td>7365.0</td>\n",
              "      <td>...</td>\n",
              "      <td>NaN</td>\n",
              "      <td>8.0</td>\n",
              "      <td>NaN</td>\n",
              "      <td>NaN</td>\n",
              "      <td>NaN</td>\n",
              "      <td>NaN</td>\n",
              "      <td>NaN</td>\n",
              "      <td>NaN</td>\n",
              "      <td>NaN</td>\n",
              "      <td>NaN</td>\n",
              "    </tr>\n",
              "    <tr>\n",
              "      <th>3</th>\n",
              "      <td>CH</td>\n",
              "      <td>Chicago, IL (CH)</td>\n",
              "      <td>District</td>\n",
              "      <td>1.0</td>\n",
              "      <td>1991.0</td>\n",
              "      <td>1.0</td>\n",
              "      <td>72.2433</td>\n",
              "      <td>1.0</td>\n",
              "      <td>28.0</td>\n",
              "      <td>7366.0</td>\n",
              "      <td>...</td>\n",
              "      <td>NaN</td>\n",
              "      <td>8.0</td>\n",
              "      <td>NaN</td>\n",
              "      <td>NaN</td>\n",
              "      <td>NaN</td>\n",
              "      <td>NaN</td>\n",
              "      <td>NaN</td>\n",
              "      <td>NaN</td>\n",
              "      <td>NaN</td>\n",
              "      <td>NaN</td>\n",
              "    </tr>\n",
              "    <tr>\n",
              "      <th>4</th>\n",
              "      <td>CH</td>\n",
              "      <td>Chicago, IL (CH)</td>\n",
              "      <td>District</td>\n",
              "      <td>1.0</td>\n",
              "      <td>1991.0</td>\n",
              "      <td>1.0</td>\n",
              "      <td>73.3721</td>\n",
              "      <td>1.0</td>\n",
              "      <td>4.0</td>\n",
              "      <td>9648.0</td>\n",
              "      <td>...</td>\n",
              "      <td>NaN</td>\n",
              "      <td>2.0</td>\n",
              "      <td>NaN</td>\n",
              "      <td>NaN</td>\n",
              "      <td>NaN</td>\n",
              "      <td>NaN</td>\n",
              "      <td>NaN</td>\n",
              "      <td>NaN</td>\n",
              "      <td>NaN</td>\n",
              "      <td>NaN</td>\n",
              "    </tr>\n",
              "  </tbody>\n",
              "</table>\n",
              "<p>5 rows × 151 columns</p>\n",
              "</div>\n",
              "      <button class=\"colab-df-convert\" onclick=\"convertToInteractive('df-9ae112b8-5100-4592-b14c-5d4368c88206')\"\n",
              "              title=\"Convert this dataframe to an interactive table.\"\n",
              "              style=\"display:none;\">\n",
              "        \n",
              "  <svg xmlns=\"http://www.w3.org/2000/svg\" height=\"24px\"viewBox=\"0 0 24 24\"\n",
              "       width=\"24px\">\n",
              "    <path d=\"M0 0h24v24H0V0z\" fill=\"none\"/>\n",
              "    <path d=\"M18.56 5.44l.94 2.06.94-2.06 2.06-.94-2.06-.94-.94-2.06-.94 2.06-2.06.94zm-11 1L8.5 8.5l.94-2.06 2.06-.94-2.06-.94L8.5 2.5l-.94 2.06-2.06.94zm10 10l.94 2.06.94-2.06 2.06-.94-2.06-.94-.94-2.06-.94 2.06-2.06.94z\"/><path d=\"M17.41 7.96l-1.37-1.37c-.4-.4-.92-.59-1.43-.59-.52 0-1.04.2-1.43.59L10.3 9.45l-7.72 7.72c-.78.78-.78 2.05 0 2.83L4 21.41c.39.39.9.59 1.41.59.51 0 1.02-.2 1.41-.59l7.78-7.78 2.81-2.81c.8-.78.8-2.07 0-2.86zM5.41 20L4 18.59l7.72-7.72 1.47 1.35L5.41 20z\"/>\n",
              "  </svg>\n",
              "      </button>\n",
              "      \n",
              "  <style>\n",
              "    .colab-df-container {\n",
              "      display:flex;\n",
              "      flex-wrap:wrap;\n",
              "      gap: 12px;\n",
              "    }\n",
              "\n",
              "    .colab-df-convert {\n",
              "      background-color: #E8F0FE;\n",
              "      border: none;\n",
              "      border-radius: 50%;\n",
              "      cursor: pointer;\n",
              "      display: none;\n",
              "      fill: #1967D2;\n",
              "      height: 32px;\n",
              "      padding: 0 0 0 0;\n",
              "      width: 32px;\n",
              "    }\n",
              "\n",
              "    .colab-df-convert:hover {\n",
              "      background-color: #E2EBFA;\n",
              "      box-shadow: 0px 1px 2px rgba(60, 64, 67, 0.3), 0px 1px 3px 1px rgba(60, 64, 67, 0.15);\n",
              "      fill: #174EA6;\n",
              "    }\n",
              "\n",
              "    [theme=dark] .colab-df-convert {\n",
              "      background-color: #3B4455;\n",
              "      fill: #D2E3FC;\n",
              "    }\n",
              "\n",
              "    [theme=dark] .colab-df-convert:hover {\n",
              "      background-color: #434B5C;\n",
              "      box-shadow: 0px 1px 3px 1px rgba(0, 0, 0, 0.15);\n",
              "      filter: drop-shadow(0px 1px 2px rgba(0, 0, 0, 0.3));\n",
              "      fill: #FFFFFF;\n",
              "    }\n",
              "  </style>\n",
              "\n",
              "      <script>\n",
              "        const buttonEl =\n",
              "          document.querySelector('#df-9ae112b8-5100-4592-b14c-5d4368c88206 button.colab-df-convert');\n",
              "        buttonEl.style.display =\n",
              "          google.colab.kernel.accessAllowed ? 'block' : 'none';\n",
              "\n",
              "        async function convertToInteractive(key) {\n",
              "          const element = document.querySelector('#df-9ae112b8-5100-4592-b14c-5d4368c88206');\n",
              "          const dataTable =\n",
              "            await google.colab.kernel.invokeFunction('convertToInteractive',\n",
              "                                                     [key], {});\n",
              "          if (!dataTable) return;\n",
              "\n",
              "          const docLinkHtml = 'Like what you see? Visit the ' +\n",
              "            '<a target=\"_blank\" href=https://colab.research.google.com/notebooks/data_table.ipynb>data table notebook</a>'\n",
              "            + ' to learn more about interactive tables.';\n",
              "          element.innerHTML = '';\n",
              "          dataTable['output_type'] = 'display_data';\n",
              "          await google.colab.output.renderOutput(dataTable, element);\n",
              "          const docLink = document.createElement('div');\n",
              "          docLink.innerHTML = docLinkHtml;\n",
              "          element.appendChild(docLink);\n",
              "        }\n",
              "      </script>\n",
              "    </div>\n",
              "  </div>\n",
              "  "
            ]
          },
          "metadata": {},
          "execution_count": 6
        }
      ]
    },
    {
      "cell_type": "markdown",
      "source": [
        "Next, let's look at the distribution of missing values in the dataset. \n"
      ],
      "metadata": {
        "id": "u_qJGhhA_Gfw"
      }
    },
    {
      "cell_type": "code",
      "source": [
        "districtData.isna().sum()"
      ],
      "metadata": {
        "colab": {
          "base_uri": "https://localhost:8080/"
        },
        "id": "_p0xKJob5tUJ",
        "outputId": "b094001e-f160-4b67-f7c5-105387519efd"
      },
      "execution_count": null,
      "outputs": [
        {
          "output_type": "execute_result",
          "data": {
            "text/plain": [
              "sitecode                 0\n",
              "sitename                 0\n",
              "sitetype                 0\n",
              "sitetypenum              0\n",
              "year                     0\n",
              "survyear                 0\n",
              "weight                   0\n",
              "stratum                  0\n",
              "PSU                      0\n",
              "record                   0\n",
              "age                   1524\n",
              "sex                   3374\n",
              "grade                 6097\n",
              "race4                14218\n",
              "race7                16364\n",
              "stheight            104201\n",
              "stweight            104201\n",
              "bmi                  97791\n",
              "bmipct              100523\n",
              "qnobese             100523\n",
              "qnowt               100523\n",
              "q66                 219877\n",
              "q65                 237488\n",
              "sexid               219942\n",
              "sexid2              219942\n",
              "sexpart             239063\n",
              "sexpart2            239063\n",
              "q8                  114337\n",
              "q9                  153187\n",
              "q10                 369362\n",
              "q11                 369735\n",
              "q12                  25756\n",
              "q13                  48162\n",
              "q14                 415766\n",
              "q15                  21792\n",
              "q16                  18491\n",
              "q17                  26496\n",
              "q18                 125978\n",
              "q19                 173778\n",
              "q20                 430677\n",
              "q21                 335552\n",
              "q22                 324744\n",
              "q23                 217601\n",
              "q24                 266828\n",
              "q25                  66406\n",
              "q26                  10802\n",
              "q27                 140257\n",
              "q28                  84539\n",
              "q29                 110173\n",
              "q30                  71222\n",
              "q31                 434315\n",
              "q32                  39391\n",
              "q33                  59299\n",
              "q34                 397679\n",
              "q35                 369013\n",
              "q36                 440398\n",
              "q37                 430742\n",
              "q38                 131260\n",
              "q39                 458399\n",
              "q40                  61046\n",
              "q41                  52239\n",
              "q42                 411897\n",
              "q43                 380040\n",
              "q44                 253653\n",
              "q45                 136177\n",
              "q46                  31259\n",
              "q47                  23495\n",
              "q48                 384463\n",
              "q49                 438915\n",
              "q50                  34812\n",
              "q51                 137895\n",
              "q52                 102041\n",
              "q53                 122985\n",
              "q54                 187786\n",
              "q55                 184571\n",
              "q56                  87514\n",
              "q57                 122310\n",
              "q58                  82715\n",
              "q59                  75004\n",
              "q60                  81872\n",
              "q61                  79868\n",
              "q62                  82113\n",
              "q63                  83376\n",
              "q64                  87493\n",
              "q67                  92315\n",
              "q68                  88750\n",
              "q69                  99331\n",
              "q70                 100241\n",
              "q71                 242351\n",
              "q72                 242882\n",
              "q73                 243086\n",
              "q74                 243338\n",
              "q75                 220275\n",
              "q76                 204332\n",
              "q77                 357382\n",
              "q78                 210165\n",
              "q79                 108040\n",
              "q80                 210449\n",
              "q81                  93516\n",
              "q82                 202879\n",
              "q83                 461356\n",
              "q84                 306929\n",
              "q85                 455167\n",
              "q86                 368992\n",
              "q87                 189479\n",
              "q88                 361005\n",
              "q89                 330161\n",
              "qbikehelmet         129691\n",
              "qdrivemarijuana     504249\n",
              "qcelldriving        504249\n",
              "qpropertydamage     339468\n",
              "qbullyweight        470813\n",
              "qbullygender        488318\n",
              "qbullygay           446158\n",
              "qchokeself          504249\n",
              "qcigschool          214328\n",
              "qchewtobschool      347484\n",
              "qalcoholschool      243443\n",
              "qtypealcohol2       502964\n",
              "qhowmarijuana       493659\n",
              "qmarijuanaschool    242122\n",
              "qcurrentopioid      498997\n",
              "qcurrentcocaine     274350\n",
              "qcurrentheroin      499487\n",
              "qcurrentmeth        502627\n",
              "qhallucdrug         490465\n",
              "qprescription30d    490876\n",
              "qgenderexp          431681\n",
              "qtaughtHIV          165625\n",
              "qtaughtsexed        491177\n",
              "qtaughtstd          498822\n",
              "qtaughtcondom       490226\n",
              "qtaughtbc           502743\n",
              "qdietpop            504249\n",
              "qcoffeetea          504249\n",
              "qsportsdrink        493859\n",
              "qenergydrink        492297\n",
              "qsugardrink         504249\n",
              "qwater              458383\n",
              "qfastfood           489941\n",
              "qfoodallergy        504249\n",
              "qwenthungry         480849\n",
              "qmusclestrength     352561\n",
              "qsunscreenuse       482347\n",
              "qindoortanning      487486\n",
              "qsunburn            497750\n",
              "qconcentrating      504249\n",
              "qcurrentasthma      429627\n",
              "qwheresleep         481567\n",
              "qspeakenglish       504249\n",
              "qtransgender        441954\n",
              "dtype: int64"
            ]
          },
          "metadata": {},
          "execution_count": 45
        }
      ]
    },
    {
      "cell_type": "markdown",
      "source": [
        "Clearly, our data has a lot of missing values. Unfortunately, with our goals in mind, we can't simply drop all rows / columns with NA values. Instead, we should first subset the data to only include columns of interest, and then deal with missing values through either removal or imputation as appropriate."
      ],
      "metadata": {
        "id": "-nNUxhn3AWW8"
      }
    },
    {
      "cell_type": "markdown",
      "source": [
        "## Data Preprocessing"
      ],
      "metadata": {
        "id": "z0hIenmT68F4"
      }
    },
    {
      "cell_type": "markdown",
      "source": [
        "Let's start by subsetting the data to only include variables of interest. We will keep demographic variables to control for confounding (ex: age, race, etc.), our set of predictors, and our outcome variable of interest (q26).\n",
        "\n",
        "We will also subset the data to only include the three most recent survey years, so that our analyses are as contemporary and relevant as possible (i.e., the results for 1994 may not be as applicable today compared to those of 2015). "
      ],
      "metadata": {
        "id": "IsVefKzMiCe3"
      }
    },
    {
      "cell_type": "code",
      "source": [
        "keep_variables = ['year', 'age', 'sex', 'grade', 'race4', 'q69', 'q70', 'q71', 'q72', 'q73', 'q74', 'q75', 'q76', 'q77', 'q78', 'q26']\n",
        "\n",
        "sub_districtData = districtData[keep_variables]\n",
        "\n",
        "sub_districtData = sub_districtData[sub_districtData['year'].isin([2015., 2017., 2019.])]"
      ],
      "metadata": {
        "id": "YN8mcRM9iIkG"
      },
      "execution_count": null,
      "outputs": []
    },
    {
      "cell_type": "markdown",
      "source": [
        "Now, let's rename our \"q__\" variables for the sake of interpretability."
      ],
      "metadata": {
        "id": "9Lyss9DtbLov"
      }
    },
    {
      "cell_type": "code",
      "source": [
        "sub_districtData.rename(columns = {'q26':'considered_suicide', 'q69':'fruit_juice', 'q70':'fruit', 'q71':'green_salad', 'q72':'potatoes', 'q73':'carrots', 'q74':'other_vegetables', 'q75':'soda', 'q76':'milk', 'q77':'breakfast', 'q78':'physical_activity'}, inplace = True)\n",
        "\n",
        "rename_keep_variables = ['year', 'age', 'sex', 'grade', 'race4', 'fruit_juice', 'fruit', 'green_salad', 'potatoes', 'carrots', 'other_vegetables', 'soda', 'milk', 'breakfast', 'physical_activity', 'considered_suicide']"
      ],
      "metadata": {
        "id": "Cm-jIKsLbm2X"
      },
      "execution_count": null,
      "outputs": []
    },
    {
      "cell_type": "markdown",
      "source": [
        "Next, we should get dummy variables for each of our categorical covariates/predictors. After reviewing the data dictionary, it seems that every covariate/predictor in our dataset is categorical."
      ],
      "metadata": {
        "id": "vZnIVBNvqD5U"
      }
    },
    {
      "cell_type": "code",
      "source": [
        "## make copy of original dataframe for exploratory section\n",
        "sub_districtData0 = sub_districtData.copy(deep = True)\n",
        "\n",
        "categorical_var = [var for var in rename_keep_variables if var not in ('considered_suicide')]\n",
        "\n",
        "sub_districtData = pd.get_dummies(sub_districtData, columns = categorical_var, drop_first = True)\n",
        "\n",
        "sub_districtData.head()"
      ],
      "metadata": {
        "colab": {
          "base_uri": "https://localhost:8080/",
          "height": 300
        },
        "id": "J6H_tXz4qyje",
        "outputId": "8735fa3b-cc84-4325-94f3-20ef086d10d6"
      },
      "execution_count": null,
      "outputs": [
        {
          "output_type": "execute_result",
          "data": {
            "text/plain": [
              "        considered_suicide  year_2017.0  year_2019.0  age_2.0  age_3.0  \\\n",
              "353703                 2.0            0            0        0        0   \n",
              "353704                 1.0            0            0        0        0   \n",
              "353705                 1.0            0            0        0        0   \n",
              "353706                 NaN            0            0        0        0   \n",
              "353707                 1.0            0            0        0        0   \n",
              "\n",
              "        age_4.0  age_5.0  age_6.0  age_7.0  sex_2.0  ...  breakfast_6.0  \\\n",
              "353703        0        0        0        0        0  ...              0   \n",
              "353704        0        0        0        0        0  ...              0   \n",
              "353705        0        0        0        0        0  ...              0   \n",
              "353706        0        0        0        0        0  ...              0   \n",
              "353707        0        0        0        0        0  ...              0   \n",
              "\n",
              "        breakfast_7.0  breakfast_8.0  physical_activity_2.0  \\\n",
              "353703              0              0                      1   \n",
              "353704              0              0                      0   \n",
              "353705              0              0                      0   \n",
              "353706              0              0                      0   \n",
              "353707              0              0                      0   \n",
              "\n",
              "        physical_activity_3.0  physical_activity_4.0  physical_activity_5.0  \\\n",
              "353703                      0                      0                      0   \n",
              "353704                      0                      0                      0   \n",
              "353705                      1                      0                      0   \n",
              "353706                      0                      0                      0   \n",
              "353707                      0                      0                      0   \n",
              "\n",
              "        physical_activity_6.0  physical_activity_7.0  physical_activity_8.0  \n",
              "353703                      0                      0                      0  \n",
              "353704                      0                      0                      0  \n",
              "353705                      0                      0                      0  \n",
              "353706                      1                      0                      0  \n",
              "353707                      0                      0                      0  \n",
              "\n",
              "[5 rows x 78 columns]"
            ],
            "text/html": [
              "\n",
              "  <div id=\"df-956afcd0-9f8f-48c1-b9ab-2ef55f2cfc30\">\n",
              "    <div class=\"colab-df-container\">\n",
              "      <div>\n",
              "<style scoped>\n",
              "    .dataframe tbody tr th:only-of-type {\n",
              "        vertical-align: middle;\n",
              "    }\n",
              "\n",
              "    .dataframe tbody tr th {\n",
              "        vertical-align: top;\n",
              "    }\n",
              "\n",
              "    .dataframe thead th {\n",
              "        text-align: right;\n",
              "    }\n",
              "</style>\n",
              "<table border=\"1\" class=\"dataframe\">\n",
              "  <thead>\n",
              "    <tr style=\"text-align: right;\">\n",
              "      <th></th>\n",
              "      <th>considered_suicide</th>\n",
              "      <th>year_2017.0</th>\n",
              "      <th>year_2019.0</th>\n",
              "      <th>age_2.0</th>\n",
              "      <th>age_3.0</th>\n",
              "      <th>age_4.0</th>\n",
              "      <th>age_5.0</th>\n",
              "      <th>age_6.0</th>\n",
              "      <th>age_7.0</th>\n",
              "      <th>sex_2.0</th>\n",
              "      <th>...</th>\n",
              "      <th>breakfast_6.0</th>\n",
              "      <th>breakfast_7.0</th>\n",
              "      <th>breakfast_8.0</th>\n",
              "      <th>physical_activity_2.0</th>\n",
              "      <th>physical_activity_3.0</th>\n",
              "      <th>physical_activity_4.0</th>\n",
              "      <th>physical_activity_5.0</th>\n",
              "      <th>physical_activity_6.0</th>\n",
              "      <th>physical_activity_7.0</th>\n",
              "      <th>physical_activity_8.0</th>\n",
              "    </tr>\n",
              "  </thead>\n",
              "  <tbody>\n",
              "    <tr>\n",
              "      <th>353703</th>\n",
              "      <td>2.0</td>\n",
              "      <td>0</td>\n",
              "      <td>0</td>\n",
              "      <td>0</td>\n",
              "      <td>0</td>\n",
              "      <td>0</td>\n",
              "      <td>0</td>\n",
              "      <td>0</td>\n",
              "      <td>0</td>\n",
              "      <td>0</td>\n",
              "      <td>...</td>\n",
              "      <td>0</td>\n",
              "      <td>0</td>\n",
              "      <td>0</td>\n",
              "      <td>1</td>\n",
              "      <td>0</td>\n",
              "      <td>0</td>\n",
              "      <td>0</td>\n",
              "      <td>0</td>\n",
              "      <td>0</td>\n",
              "      <td>0</td>\n",
              "    </tr>\n",
              "    <tr>\n",
              "      <th>353704</th>\n",
              "      <td>1.0</td>\n",
              "      <td>0</td>\n",
              "      <td>0</td>\n",
              "      <td>0</td>\n",
              "      <td>0</td>\n",
              "      <td>0</td>\n",
              "      <td>0</td>\n",
              "      <td>0</td>\n",
              "      <td>0</td>\n",
              "      <td>0</td>\n",
              "      <td>...</td>\n",
              "      <td>0</td>\n",
              "      <td>0</td>\n",
              "      <td>0</td>\n",
              "      <td>0</td>\n",
              "      <td>0</td>\n",
              "      <td>0</td>\n",
              "      <td>0</td>\n",
              "      <td>0</td>\n",
              "      <td>0</td>\n",
              "      <td>0</td>\n",
              "    </tr>\n",
              "    <tr>\n",
              "      <th>353705</th>\n",
              "      <td>1.0</td>\n",
              "      <td>0</td>\n",
              "      <td>0</td>\n",
              "      <td>0</td>\n",
              "      <td>0</td>\n",
              "      <td>0</td>\n",
              "      <td>0</td>\n",
              "      <td>0</td>\n",
              "      <td>0</td>\n",
              "      <td>0</td>\n",
              "      <td>...</td>\n",
              "      <td>0</td>\n",
              "      <td>0</td>\n",
              "      <td>0</td>\n",
              "      <td>0</td>\n",
              "      <td>1</td>\n",
              "      <td>0</td>\n",
              "      <td>0</td>\n",
              "      <td>0</td>\n",
              "      <td>0</td>\n",
              "      <td>0</td>\n",
              "    </tr>\n",
              "    <tr>\n",
              "      <th>353706</th>\n",
              "      <td>NaN</td>\n",
              "      <td>0</td>\n",
              "      <td>0</td>\n",
              "      <td>0</td>\n",
              "      <td>0</td>\n",
              "      <td>0</td>\n",
              "      <td>0</td>\n",
              "      <td>0</td>\n",
              "      <td>0</td>\n",
              "      <td>0</td>\n",
              "      <td>...</td>\n",
              "      <td>0</td>\n",
              "      <td>0</td>\n",
              "      <td>0</td>\n",
              "      <td>0</td>\n",
              "      <td>0</td>\n",
              "      <td>0</td>\n",
              "      <td>0</td>\n",
              "      <td>1</td>\n",
              "      <td>0</td>\n",
              "      <td>0</td>\n",
              "    </tr>\n",
              "    <tr>\n",
              "      <th>353707</th>\n",
              "      <td>1.0</td>\n",
              "      <td>0</td>\n",
              "      <td>0</td>\n",
              "      <td>0</td>\n",
              "      <td>0</td>\n",
              "      <td>0</td>\n",
              "      <td>0</td>\n",
              "      <td>0</td>\n",
              "      <td>0</td>\n",
              "      <td>0</td>\n",
              "      <td>...</td>\n",
              "      <td>0</td>\n",
              "      <td>0</td>\n",
              "      <td>0</td>\n",
              "      <td>0</td>\n",
              "      <td>0</td>\n",
              "      <td>0</td>\n",
              "      <td>0</td>\n",
              "      <td>0</td>\n",
              "      <td>0</td>\n",
              "      <td>0</td>\n",
              "    </tr>\n",
              "  </tbody>\n",
              "</table>\n",
              "<p>5 rows × 78 columns</p>\n",
              "</div>\n",
              "      <button class=\"colab-df-convert\" onclick=\"convertToInteractive('df-956afcd0-9f8f-48c1-b9ab-2ef55f2cfc30')\"\n",
              "              title=\"Convert this dataframe to an interactive table.\"\n",
              "              style=\"display:none;\">\n",
              "        \n",
              "  <svg xmlns=\"http://www.w3.org/2000/svg\" height=\"24px\"viewBox=\"0 0 24 24\"\n",
              "       width=\"24px\">\n",
              "    <path d=\"M0 0h24v24H0V0z\" fill=\"none\"/>\n",
              "    <path d=\"M18.56 5.44l.94 2.06.94-2.06 2.06-.94-2.06-.94-.94-2.06-.94 2.06-2.06.94zm-11 1L8.5 8.5l.94-2.06 2.06-.94-2.06-.94L8.5 2.5l-.94 2.06-2.06.94zm10 10l.94 2.06.94-2.06 2.06-.94-2.06-.94-.94-2.06-.94 2.06-2.06.94z\"/><path d=\"M17.41 7.96l-1.37-1.37c-.4-.4-.92-.59-1.43-.59-.52 0-1.04.2-1.43.59L10.3 9.45l-7.72 7.72c-.78.78-.78 2.05 0 2.83L4 21.41c.39.39.9.59 1.41.59.51 0 1.02-.2 1.41-.59l7.78-7.78 2.81-2.81c.8-.78.8-2.07 0-2.86zM5.41 20L4 18.59l7.72-7.72 1.47 1.35L5.41 20z\"/>\n",
              "  </svg>\n",
              "      </button>\n",
              "      \n",
              "  <style>\n",
              "    .colab-df-container {\n",
              "      display:flex;\n",
              "      flex-wrap:wrap;\n",
              "      gap: 12px;\n",
              "    }\n",
              "\n",
              "    .colab-df-convert {\n",
              "      background-color: #E8F0FE;\n",
              "      border: none;\n",
              "      border-radius: 50%;\n",
              "      cursor: pointer;\n",
              "      display: none;\n",
              "      fill: #1967D2;\n",
              "      height: 32px;\n",
              "      padding: 0 0 0 0;\n",
              "      width: 32px;\n",
              "    }\n",
              "\n",
              "    .colab-df-convert:hover {\n",
              "      background-color: #E2EBFA;\n",
              "      box-shadow: 0px 1px 2px rgba(60, 64, 67, 0.3), 0px 1px 3px 1px rgba(60, 64, 67, 0.15);\n",
              "      fill: #174EA6;\n",
              "    }\n",
              "\n",
              "    [theme=dark] .colab-df-convert {\n",
              "      background-color: #3B4455;\n",
              "      fill: #D2E3FC;\n",
              "    }\n",
              "\n",
              "    [theme=dark] .colab-df-convert:hover {\n",
              "      background-color: #434B5C;\n",
              "      box-shadow: 0px 1px 3px 1px rgba(0, 0, 0, 0.15);\n",
              "      filter: drop-shadow(0px 1px 2px rgba(0, 0, 0, 0.3));\n",
              "      fill: #FFFFFF;\n",
              "    }\n",
              "  </style>\n",
              "\n",
              "      <script>\n",
              "        const buttonEl =\n",
              "          document.querySelector('#df-956afcd0-9f8f-48c1-b9ab-2ef55f2cfc30 button.colab-df-convert');\n",
              "        buttonEl.style.display =\n",
              "          google.colab.kernel.accessAllowed ? 'block' : 'none';\n",
              "\n",
              "        async function convertToInteractive(key) {\n",
              "          const element = document.querySelector('#df-956afcd0-9f8f-48c1-b9ab-2ef55f2cfc30');\n",
              "          const dataTable =\n",
              "            await google.colab.kernel.invokeFunction('convertToInteractive',\n",
              "                                                     [key], {});\n",
              "          if (!dataTable) return;\n",
              "\n",
              "          const docLinkHtml = 'Like what you see? Visit the ' +\n",
              "            '<a target=\"_blank\" href=https://colab.research.google.com/notebooks/data_table.ipynb>data table notebook</a>'\n",
              "            + ' to learn more about interactive tables.';\n",
              "          element.innerHTML = '';\n",
              "          dataTable['output_type'] = 'display_data';\n",
              "          await google.colab.output.renderOutput(dataTable, element);\n",
              "          const docLink = document.createElement('div');\n",
              "          docLink.innerHTML = docLinkHtml;\n",
              "          element.appendChild(docLink);\n",
              "        }\n",
              "      </script>\n",
              "    </div>\n",
              "  </div>\n",
              "  "
            ]
          },
          "metadata": {},
          "execution_count": 10
        }
      ]
    },
    {
      "cell_type": "code",
      "source": [
        "sub_districtData.head()"
      ],
      "metadata": {
        "colab": {
          "base_uri": "https://localhost:8080/",
          "height": 300
        },
        "id": "YLkZ2qB9w2Hf",
        "outputId": "c9b45d09-c96c-4195-f382-e4c7c697de95"
      },
      "execution_count": null,
      "outputs": [
        {
          "output_type": "execute_result",
          "data": {
            "text/plain": [
              "        considered_suicide  year_2017.0  year_2019.0  age_2.0  age_3.0  \\\n",
              "353703                 2.0            0            0        0        0   \n",
              "353704                 1.0            0            0        0        0   \n",
              "353705                 1.0            0            0        0        0   \n",
              "353706                 NaN            0            0        0        0   \n",
              "353707                 1.0            0            0        0        0   \n",
              "\n",
              "        age_4.0  age_5.0  age_6.0  age_7.0  sex_2.0  ...  breakfast_6.0  \\\n",
              "353703        0        0        0        0        0  ...              0   \n",
              "353704        0        0        0        0        0  ...              0   \n",
              "353705        0        0        0        0        0  ...              0   \n",
              "353706        0        0        0        0        0  ...              0   \n",
              "353707        0        0        0        0        0  ...              0   \n",
              "\n",
              "        breakfast_7.0  breakfast_8.0  physical_activity_2.0  \\\n",
              "353703              0              0                      1   \n",
              "353704              0              0                      0   \n",
              "353705              0              0                      0   \n",
              "353706              0              0                      0   \n",
              "353707              0              0                      0   \n",
              "\n",
              "        physical_activity_3.0  physical_activity_4.0  physical_activity_5.0  \\\n",
              "353703                      0                      0                      0   \n",
              "353704                      0                      0                      0   \n",
              "353705                      1                      0                      0   \n",
              "353706                      0                      0                      0   \n",
              "353707                      0                      0                      0   \n",
              "\n",
              "        physical_activity_6.0  physical_activity_7.0  physical_activity_8.0  \n",
              "353703                      0                      0                      0  \n",
              "353704                      0                      0                      0  \n",
              "353705                      0                      0                      0  \n",
              "353706                      1                      0                      0  \n",
              "353707                      0                      0                      0  \n",
              "\n",
              "[5 rows x 78 columns]"
            ],
            "text/html": [
              "\n",
              "  <div id=\"df-85dc0913-46da-4d75-941d-ed0deb614ae2\">\n",
              "    <div class=\"colab-df-container\">\n",
              "      <div>\n",
              "<style scoped>\n",
              "    .dataframe tbody tr th:only-of-type {\n",
              "        vertical-align: middle;\n",
              "    }\n",
              "\n",
              "    .dataframe tbody tr th {\n",
              "        vertical-align: top;\n",
              "    }\n",
              "\n",
              "    .dataframe thead th {\n",
              "        text-align: right;\n",
              "    }\n",
              "</style>\n",
              "<table border=\"1\" class=\"dataframe\">\n",
              "  <thead>\n",
              "    <tr style=\"text-align: right;\">\n",
              "      <th></th>\n",
              "      <th>considered_suicide</th>\n",
              "      <th>year_2017.0</th>\n",
              "      <th>year_2019.0</th>\n",
              "      <th>age_2.0</th>\n",
              "      <th>age_3.0</th>\n",
              "      <th>age_4.0</th>\n",
              "      <th>age_5.0</th>\n",
              "      <th>age_6.0</th>\n",
              "      <th>age_7.0</th>\n",
              "      <th>sex_2.0</th>\n",
              "      <th>...</th>\n",
              "      <th>breakfast_6.0</th>\n",
              "      <th>breakfast_7.0</th>\n",
              "      <th>breakfast_8.0</th>\n",
              "      <th>physical_activity_2.0</th>\n",
              "      <th>physical_activity_3.0</th>\n",
              "      <th>physical_activity_4.0</th>\n",
              "      <th>physical_activity_5.0</th>\n",
              "      <th>physical_activity_6.0</th>\n",
              "      <th>physical_activity_7.0</th>\n",
              "      <th>physical_activity_8.0</th>\n",
              "    </tr>\n",
              "  </thead>\n",
              "  <tbody>\n",
              "    <tr>\n",
              "      <th>353703</th>\n",
              "      <td>2.0</td>\n",
              "      <td>0</td>\n",
              "      <td>0</td>\n",
              "      <td>0</td>\n",
              "      <td>0</td>\n",
              "      <td>0</td>\n",
              "      <td>0</td>\n",
              "      <td>0</td>\n",
              "      <td>0</td>\n",
              "      <td>0</td>\n",
              "      <td>...</td>\n",
              "      <td>0</td>\n",
              "      <td>0</td>\n",
              "      <td>0</td>\n",
              "      <td>1</td>\n",
              "      <td>0</td>\n",
              "      <td>0</td>\n",
              "      <td>0</td>\n",
              "      <td>0</td>\n",
              "      <td>0</td>\n",
              "      <td>0</td>\n",
              "    </tr>\n",
              "    <tr>\n",
              "      <th>353704</th>\n",
              "      <td>1.0</td>\n",
              "      <td>0</td>\n",
              "      <td>0</td>\n",
              "      <td>0</td>\n",
              "      <td>0</td>\n",
              "      <td>0</td>\n",
              "      <td>0</td>\n",
              "      <td>0</td>\n",
              "      <td>0</td>\n",
              "      <td>0</td>\n",
              "      <td>...</td>\n",
              "      <td>0</td>\n",
              "      <td>0</td>\n",
              "      <td>0</td>\n",
              "      <td>0</td>\n",
              "      <td>0</td>\n",
              "      <td>0</td>\n",
              "      <td>0</td>\n",
              "      <td>0</td>\n",
              "      <td>0</td>\n",
              "      <td>0</td>\n",
              "    </tr>\n",
              "    <tr>\n",
              "      <th>353705</th>\n",
              "      <td>1.0</td>\n",
              "      <td>0</td>\n",
              "      <td>0</td>\n",
              "      <td>0</td>\n",
              "      <td>0</td>\n",
              "      <td>0</td>\n",
              "      <td>0</td>\n",
              "      <td>0</td>\n",
              "      <td>0</td>\n",
              "      <td>0</td>\n",
              "      <td>...</td>\n",
              "      <td>0</td>\n",
              "      <td>0</td>\n",
              "      <td>0</td>\n",
              "      <td>0</td>\n",
              "      <td>1</td>\n",
              "      <td>0</td>\n",
              "      <td>0</td>\n",
              "      <td>0</td>\n",
              "      <td>0</td>\n",
              "      <td>0</td>\n",
              "    </tr>\n",
              "    <tr>\n",
              "      <th>353706</th>\n",
              "      <td>NaN</td>\n",
              "      <td>0</td>\n",
              "      <td>0</td>\n",
              "      <td>0</td>\n",
              "      <td>0</td>\n",
              "      <td>0</td>\n",
              "      <td>0</td>\n",
              "      <td>0</td>\n",
              "      <td>0</td>\n",
              "      <td>0</td>\n",
              "      <td>...</td>\n",
              "      <td>0</td>\n",
              "      <td>0</td>\n",
              "      <td>0</td>\n",
              "      <td>0</td>\n",
              "      <td>0</td>\n",
              "      <td>0</td>\n",
              "      <td>0</td>\n",
              "      <td>1</td>\n",
              "      <td>0</td>\n",
              "      <td>0</td>\n",
              "    </tr>\n",
              "    <tr>\n",
              "      <th>353707</th>\n",
              "      <td>1.0</td>\n",
              "      <td>0</td>\n",
              "      <td>0</td>\n",
              "      <td>0</td>\n",
              "      <td>0</td>\n",
              "      <td>0</td>\n",
              "      <td>0</td>\n",
              "      <td>0</td>\n",
              "      <td>0</td>\n",
              "      <td>0</td>\n",
              "      <td>...</td>\n",
              "      <td>0</td>\n",
              "      <td>0</td>\n",
              "      <td>0</td>\n",
              "      <td>0</td>\n",
              "      <td>0</td>\n",
              "      <td>0</td>\n",
              "      <td>0</td>\n",
              "      <td>0</td>\n",
              "      <td>0</td>\n",
              "      <td>0</td>\n",
              "    </tr>\n",
              "  </tbody>\n",
              "</table>\n",
              "<p>5 rows × 78 columns</p>\n",
              "</div>\n",
              "      <button class=\"colab-df-convert\" onclick=\"convertToInteractive('df-85dc0913-46da-4d75-941d-ed0deb614ae2')\"\n",
              "              title=\"Convert this dataframe to an interactive table.\"\n",
              "              style=\"display:none;\">\n",
              "        \n",
              "  <svg xmlns=\"http://www.w3.org/2000/svg\" height=\"24px\"viewBox=\"0 0 24 24\"\n",
              "       width=\"24px\">\n",
              "    <path d=\"M0 0h24v24H0V0z\" fill=\"none\"/>\n",
              "    <path d=\"M18.56 5.44l.94 2.06.94-2.06 2.06-.94-2.06-.94-.94-2.06-.94 2.06-2.06.94zm-11 1L8.5 8.5l.94-2.06 2.06-.94-2.06-.94L8.5 2.5l-.94 2.06-2.06.94zm10 10l.94 2.06.94-2.06 2.06-.94-2.06-.94-.94-2.06-.94 2.06-2.06.94z\"/><path d=\"M17.41 7.96l-1.37-1.37c-.4-.4-.92-.59-1.43-.59-.52 0-1.04.2-1.43.59L10.3 9.45l-7.72 7.72c-.78.78-.78 2.05 0 2.83L4 21.41c.39.39.9.59 1.41.59.51 0 1.02-.2 1.41-.59l7.78-7.78 2.81-2.81c.8-.78.8-2.07 0-2.86zM5.41 20L4 18.59l7.72-7.72 1.47 1.35L5.41 20z\"/>\n",
              "  </svg>\n",
              "      </button>\n",
              "      \n",
              "  <style>\n",
              "    .colab-df-container {\n",
              "      display:flex;\n",
              "      flex-wrap:wrap;\n",
              "      gap: 12px;\n",
              "    }\n",
              "\n",
              "    .colab-df-convert {\n",
              "      background-color: #E8F0FE;\n",
              "      border: none;\n",
              "      border-radius: 50%;\n",
              "      cursor: pointer;\n",
              "      display: none;\n",
              "      fill: #1967D2;\n",
              "      height: 32px;\n",
              "      padding: 0 0 0 0;\n",
              "      width: 32px;\n",
              "    }\n",
              "\n",
              "    .colab-df-convert:hover {\n",
              "      background-color: #E2EBFA;\n",
              "      box-shadow: 0px 1px 2px rgba(60, 64, 67, 0.3), 0px 1px 3px 1px rgba(60, 64, 67, 0.15);\n",
              "      fill: #174EA6;\n",
              "    }\n",
              "\n",
              "    [theme=dark] .colab-df-convert {\n",
              "      background-color: #3B4455;\n",
              "      fill: #D2E3FC;\n",
              "    }\n",
              "\n",
              "    [theme=dark] .colab-df-convert:hover {\n",
              "      background-color: #434B5C;\n",
              "      box-shadow: 0px 1px 3px 1px rgba(0, 0, 0, 0.15);\n",
              "      filter: drop-shadow(0px 1px 2px rgba(0, 0, 0, 0.3));\n",
              "      fill: #FFFFFF;\n",
              "    }\n",
              "  </style>\n",
              "\n",
              "      <script>\n",
              "        const buttonEl =\n",
              "          document.querySelector('#df-85dc0913-46da-4d75-941d-ed0deb614ae2 button.colab-df-convert');\n",
              "        buttonEl.style.display =\n",
              "          google.colab.kernel.accessAllowed ? 'block' : 'none';\n",
              "\n",
              "        async function convertToInteractive(key) {\n",
              "          const element = document.querySelector('#df-85dc0913-46da-4d75-941d-ed0deb614ae2');\n",
              "          const dataTable =\n",
              "            await google.colab.kernel.invokeFunction('convertToInteractive',\n",
              "                                                     [key], {});\n",
              "          if (!dataTable) return;\n",
              "\n",
              "          const docLinkHtml = 'Like what you see? Visit the ' +\n",
              "            '<a target=\"_blank\" href=https://colab.research.google.com/notebooks/data_table.ipynb>data table notebook</a>'\n",
              "            + ' to learn more about interactive tables.';\n",
              "          element.innerHTML = '';\n",
              "          dataTable['output_type'] = 'display_data';\n",
              "          await google.colab.output.renderOutput(dataTable, element);\n",
              "          const docLink = document.createElement('div');\n",
              "          docLink.innerHTML = docLinkHtml;\n",
              "          element.appendChild(docLink);\n",
              "        }\n",
              "      </script>\n",
              "    </div>\n",
              "  </div>\n",
              "  "
            ]
          },
          "metadata": {},
          "execution_count": 11
        }
      ]
    },
    {
      "cell_type": "markdown",
      "source": [
        "We must also make sure that our outcome variable is either 0 or 1 (not 1 or 2). In the current dataset, 1 = yes and 2 = no."
      ],
      "metadata": {
        "id": "1IfxbiSIwULK"
      }
    },
    {
      "cell_type": "code",
      "source": [
        "sub_districtData['considered_suicide'] = [1 if row == 1.0 else 0 if row == 2.0 else row for row in sub_districtData['considered_suicide']]\n",
        "sub_districtData0['considered_suicide'] = [1 if row == 1.0 else 0 if row == 2.0 else row for row in sub_districtData0['considered_suicide']]\n",
        "\n",
        "\n",
        "sub_districtData.head()"
      ],
      "metadata": {
        "colab": {
          "base_uri": "https://localhost:8080/",
          "height": 300
        },
        "id": "DlW-MRkhwY-6",
        "outputId": "cfb80451-3c3b-4d3e-b345-efc59d168b2b"
      },
      "execution_count": null,
      "outputs": [
        {
          "output_type": "execute_result",
          "data": {
            "text/plain": [
              "        considered_suicide  year_2017.0  year_2019.0  age_2.0  age_3.0  \\\n",
              "353703                 0.0            0            0        0        0   \n",
              "353704                 1.0            0            0        0        0   \n",
              "353705                 1.0            0            0        0        0   \n",
              "353706                 NaN            0            0        0        0   \n",
              "353707                 1.0            0            0        0        0   \n",
              "\n",
              "        age_4.0  age_5.0  age_6.0  age_7.0  sex_2.0  ...  breakfast_6.0  \\\n",
              "353703        0        0        0        0        0  ...              0   \n",
              "353704        0        0        0        0        0  ...              0   \n",
              "353705        0        0        0        0        0  ...              0   \n",
              "353706        0        0        0        0        0  ...              0   \n",
              "353707        0        0        0        0        0  ...              0   \n",
              "\n",
              "        breakfast_7.0  breakfast_8.0  physical_activity_2.0  \\\n",
              "353703              0              0                      1   \n",
              "353704              0              0                      0   \n",
              "353705              0              0                      0   \n",
              "353706              0              0                      0   \n",
              "353707              0              0                      0   \n",
              "\n",
              "        physical_activity_3.0  physical_activity_4.0  physical_activity_5.0  \\\n",
              "353703                      0                      0                      0   \n",
              "353704                      0                      0                      0   \n",
              "353705                      1                      0                      0   \n",
              "353706                      0                      0                      0   \n",
              "353707                      0                      0                      0   \n",
              "\n",
              "        physical_activity_6.0  physical_activity_7.0  physical_activity_8.0  \n",
              "353703                      0                      0                      0  \n",
              "353704                      0                      0                      0  \n",
              "353705                      0                      0                      0  \n",
              "353706                      1                      0                      0  \n",
              "353707                      0                      0                      0  \n",
              "\n",
              "[5 rows x 78 columns]"
            ],
            "text/html": [
              "\n",
              "  <div id=\"df-8ef2a704-e85b-4ee6-8f73-d6b04f5956b6\">\n",
              "    <div class=\"colab-df-container\">\n",
              "      <div>\n",
              "<style scoped>\n",
              "    .dataframe tbody tr th:only-of-type {\n",
              "        vertical-align: middle;\n",
              "    }\n",
              "\n",
              "    .dataframe tbody tr th {\n",
              "        vertical-align: top;\n",
              "    }\n",
              "\n",
              "    .dataframe thead th {\n",
              "        text-align: right;\n",
              "    }\n",
              "</style>\n",
              "<table border=\"1\" class=\"dataframe\">\n",
              "  <thead>\n",
              "    <tr style=\"text-align: right;\">\n",
              "      <th></th>\n",
              "      <th>considered_suicide</th>\n",
              "      <th>year_2017.0</th>\n",
              "      <th>year_2019.0</th>\n",
              "      <th>age_2.0</th>\n",
              "      <th>age_3.0</th>\n",
              "      <th>age_4.0</th>\n",
              "      <th>age_5.0</th>\n",
              "      <th>age_6.0</th>\n",
              "      <th>age_7.0</th>\n",
              "      <th>sex_2.0</th>\n",
              "      <th>...</th>\n",
              "      <th>breakfast_6.0</th>\n",
              "      <th>breakfast_7.0</th>\n",
              "      <th>breakfast_8.0</th>\n",
              "      <th>physical_activity_2.0</th>\n",
              "      <th>physical_activity_3.0</th>\n",
              "      <th>physical_activity_4.0</th>\n",
              "      <th>physical_activity_5.0</th>\n",
              "      <th>physical_activity_6.0</th>\n",
              "      <th>physical_activity_7.0</th>\n",
              "      <th>physical_activity_8.0</th>\n",
              "    </tr>\n",
              "  </thead>\n",
              "  <tbody>\n",
              "    <tr>\n",
              "      <th>353703</th>\n",
              "      <td>0.0</td>\n",
              "      <td>0</td>\n",
              "      <td>0</td>\n",
              "      <td>0</td>\n",
              "      <td>0</td>\n",
              "      <td>0</td>\n",
              "      <td>0</td>\n",
              "      <td>0</td>\n",
              "      <td>0</td>\n",
              "      <td>0</td>\n",
              "      <td>...</td>\n",
              "      <td>0</td>\n",
              "      <td>0</td>\n",
              "      <td>0</td>\n",
              "      <td>1</td>\n",
              "      <td>0</td>\n",
              "      <td>0</td>\n",
              "      <td>0</td>\n",
              "      <td>0</td>\n",
              "      <td>0</td>\n",
              "      <td>0</td>\n",
              "    </tr>\n",
              "    <tr>\n",
              "      <th>353704</th>\n",
              "      <td>1.0</td>\n",
              "      <td>0</td>\n",
              "      <td>0</td>\n",
              "      <td>0</td>\n",
              "      <td>0</td>\n",
              "      <td>0</td>\n",
              "      <td>0</td>\n",
              "      <td>0</td>\n",
              "      <td>0</td>\n",
              "      <td>0</td>\n",
              "      <td>...</td>\n",
              "      <td>0</td>\n",
              "      <td>0</td>\n",
              "      <td>0</td>\n",
              "      <td>0</td>\n",
              "      <td>0</td>\n",
              "      <td>0</td>\n",
              "      <td>0</td>\n",
              "      <td>0</td>\n",
              "      <td>0</td>\n",
              "      <td>0</td>\n",
              "    </tr>\n",
              "    <tr>\n",
              "      <th>353705</th>\n",
              "      <td>1.0</td>\n",
              "      <td>0</td>\n",
              "      <td>0</td>\n",
              "      <td>0</td>\n",
              "      <td>0</td>\n",
              "      <td>0</td>\n",
              "      <td>0</td>\n",
              "      <td>0</td>\n",
              "      <td>0</td>\n",
              "      <td>0</td>\n",
              "      <td>...</td>\n",
              "      <td>0</td>\n",
              "      <td>0</td>\n",
              "      <td>0</td>\n",
              "      <td>0</td>\n",
              "      <td>1</td>\n",
              "      <td>0</td>\n",
              "      <td>0</td>\n",
              "      <td>0</td>\n",
              "      <td>0</td>\n",
              "      <td>0</td>\n",
              "    </tr>\n",
              "    <tr>\n",
              "      <th>353706</th>\n",
              "      <td>NaN</td>\n",
              "      <td>0</td>\n",
              "      <td>0</td>\n",
              "      <td>0</td>\n",
              "      <td>0</td>\n",
              "      <td>0</td>\n",
              "      <td>0</td>\n",
              "      <td>0</td>\n",
              "      <td>0</td>\n",
              "      <td>0</td>\n",
              "      <td>...</td>\n",
              "      <td>0</td>\n",
              "      <td>0</td>\n",
              "      <td>0</td>\n",
              "      <td>0</td>\n",
              "      <td>0</td>\n",
              "      <td>0</td>\n",
              "      <td>0</td>\n",
              "      <td>1</td>\n",
              "      <td>0</td>\n",
              "      <td>0</td>\n",
              "    </tr>\n",
              "    <tr>\n",
              "      <th>353707</th>\n",
              "      <td>1.0</td>\n",
              "      <td>0</td>\n",
              "      <td>0</td>\n",
              "      <td>0</td>\n",
              "      <td>0</td>\n",
              "      <td>0</td>\n",
              "      <td>0</td>\n",
              "      <td>0</td>\n",
              "      <td>0</td>\n",
              "      <td>0</td>\n",
              "      <td>...</td>\n",
              "      <td>0</td>\n",
              "      <td>0</td>\n",
              "      <td>0</td>\n",
              "      <td>0</td>\n",
              "      <td>0</td>\n",
              "      <td>0</td>\n",
              "      <td>0</td>\n",
              "      <td>0</td>\n",
              "      <td>0</td>\n",
              "      <td>0</td>\n",
              "    </tr>\n",
              "  </tbody>\n",
              "</table>\n",
              "<p>5 rows × 78 columns</p>\n",
              "</div>\n",
              "      <button class=\"colab-df-convert\" onclick=\"convertToInteractive('df-8ef2a704-e85b-4ee6-8f73-d6b04f5956b6')\"\n",
              "              title=\"Convert this dataframe to an interactive table.\"\n",
              "              style=\"display:none;\">\n",
              "        \n",
              "  <svg xmlns=\"http://www.w3.org/2000/svg\" height=\"24px\"viewBox=\"0 0 24 24\"\n",
              "       width=\"24px\">\n",
              "    <path d=\"M0 0h24v24H0V0z\" fill=\"none\"/>\n",
              "    <path d=\"M18.56 5.44l.94 2.06.94-2.06 2.06-.94-2.06-.94-.94-2.06-.94 2.06-2.06.94zm-11 1L8.5 8.5l.94-2.06 2.06-.94-2.06-.94L8.5 2.5l-.94 2.06-2.06.94zm10 10l.94 2.06.94-2.06 2.06-.94-2.06-.94-.94-2.06-.94 2.06-2.06.94z\"/><path d=\"M17.41 7.96l-1.37-1.37c-.4-.4-.92-.59-1.43-.59-.52 0-1.04.2-1.43.59L10.3 9.45l-7.72 7.72c-.78.78-.78 2.05 0 2.83L4 21.41c.39.39.9.59 1.41.59.51 0 1.02-.2 1.41-.59l7.78-7.78 2.81-2.81c.8-.78.8-2.07 0-2.86zM5.41 20L4 18.59l7.72-7.72 1.47 1.35L5.41 20z\"/>\n",
              "  </svg>\n",
              "      </button>\n",
              "      \n",
              "  <style>\n",
              "    .colab-df-container {\n",
              "      display:flex;\n",
              "      flex-wrap:wrap;\n",
              "      gap: 12px;\n",
              "    }\n",
              "\n",
              "    .colab-df-convert {\n",
              "      background-color: #E8F0FE;\n",
              "      border: none;\n",
              "      border-radius: 50%;\n",
              "      cursor: pointer;\n",
              "      display: none;\n",
              "      fill: #1967D2;\n",
              "      height: 32px;\n",
              "      padding: 0 0 0 0;\n",
              "      width: 32px;\n",
              "    }\n",
              "\n",
              "    .colab-df-convert:hover {\n",
              "      background-color: #E2EBFA;\n",
              "      box-shadow: 0px 1px 2px rgba(60, 64, 67, 0.3), 0px 1px 3px 1px rgba(60, 64, 67, 0.15);\n",
              "      fill: #174EA6;\n",
              "    }\n",
              "\n",
              "    [theme=dark] .colab-df-convert {\n",
              "      background-color: #3B4455;\n",
              "      fill: #D2E3FC;\n",
              "    }\n",
              "\n",
              "    [theme=dark] .colab-df-convert:hover {\n",
              "      background-color: #434B5C;\n",
              "      box-shadow: 0px 1px 3px 1px rgba(0, 0, 0, 0.15);\n",
              "      filter: drop-shadow(0px 1px 2px rgba(0, 0, 0, 0.3));\n",
              "      fill: #FFFFFF;\n",
              "    }\n",
              "  </style>\n",
              "\n",
              "      <script>\n",
              "        const buttonEl =\n",
              "          document.querySelector('#df-8ef2a704-e85b-4ee6-8f73-d6b04f5956b6 button.colab-df-convert');\n",
              "        buttonEl.style.display =\n",
              "          google.colab.kernel.accessAllowed ? 'block' : 'none';\n",
              "\n",
              "        async function convertToInteractive(key) {\n",
              "          const element = document.querySelector('#df-8ef2a704-e85b-4ee6-8f73-d6b04f5956b6');\n",
              "          const dataTable =\n",
              "            await google.colab.kernel.invokeFunction('convertToInteractive',\n",
              "                                                     [key], {});\n",
              "          if (!dataTable) return;\n",
              "\n",
              "          const docLinkHtml = 'Like what you see? Visit the ' +\n",
              "            '<a target=\"_blank\" href=https://colab.research.google.com/notebooks/data_table.ipynb>data table notebook</a>'\n",
              "            + ' to learn more about interactive tables.';\n",
              "          element.innerHTML = '';\n",
              "          dataTable['output_type'] = 'display_data';\n",
              "          await google.colab.output.renderOutput(dataTable, element);\n",
              "          const docLink = document.createElement('div');\n",
              "          docLink.innerHTML = docLinkHtml;\n",
              "          element.appendChild(docLink);\n",
              "        }\n",
              "      </script>\n",
              "    </div>\n",
              "  </div>\n",
              "  "
            ]
          },
          "metadata": {},
          "execution_count": 12
        }
      ]
    },
    {
      "cell_type": "markdown",
      "source": [
        "Finally, let's remove all rows with missing values from the dataset. "
      ],
      "metadata": {
        "id": "_jrpXPFgoGop"
      }
    },
    {
      "cell_type": "code",
      "source": [
        "sub_districtData = sub_districtData.dropna()\n",
        "sub_districtData0 = sub_districtData0.dropna()"
      ],
      "metadata": {
        "id": "WCUVL677jNLZ"
      },
      "execution_count": null,
      "outputs": []
    },
    {
      "cell_type": "markdown",
      "source": [
        "Let's check the final length of each dataframe."
      ],
      "metadata": {
        "id": "V8qc_u1Wox0n"
      }
    },
    {
      "cell_type": "code",
      "source": [
        "len(sub_districtData.index)"
      ],
      "metadata": {
        "colab": {
          "base_uri": "https://localhost:8080/"
        },
        "id": "Ooo66SazoqM6",
        "outputId": "fb2ae88f-912b-44e9-f720-781a991ce352"
      },
      "execution_count": null,
      "outputs": [
        {
          "output_type": "execute_result",
          "data": {
            "text/plain": [
              "145088"
            ]
          },
          "metadata": {},
          "execution_count": 14
        }
      ]
    },
    {
      "cell_type": "markdown",
      "source": [
        "Although nowhere near our original rowcount, each dataset has a respectable number of rows that can certainly be used for modeling/analysis."
      ],
      "metadata": {
        "id": "CAU0PJlZo6AU"
      }
    },
    {
      "cell_type": "markdown",
      "source": [
        "## Part 1: Exploratory Data Analysis"
      ],
      "metadata": {
        "id": "oRly0L5EAEsk"
      }
    },
    {
      "cell_type": "markdown",
      "source": [
        "First, we will visualize how the outcome variable (considered_suicide) changes with each of the covariates/predictors."
      ],
      "metadata": {
        "id": "9KMH7YPX64C3"
      }
    },
    {
      "cell_type": "code",
      "source": [
        "## set theme\n",
        "sns.set_theme(style=\"whitegrid\")\n",
        "\n",
        "## initialize grid \n",
        "g = sns.PairGrid(sub_districtData0, y_vars=\"considered_suicide\",\n",
        "                 x_vars=['year', 'age', 'sex', 'grade', 'race4', 'fruit_juice', 'fruit', 'green_salad', 'potatoes', 'carrots', 'other_vegetables', 'soda', 'milk', 'breakfast', 'physical_activity'],\n",
        "                 height=5, aspect=.5)\n",
        "\n",
        "## draw seaborn pointplot onto each set of axes\n",
        "g.map(sns.pointplot, scale=1.3, errwidth=4, color=\"xkcd:plum\")\n",
        "g.set(ylim=(0, 1))\n",
        "sns.despine(fig=g.fig, left=True)"
      ],
      "metadata": {
        "colab": {
          "base_uri": "https://localhost:8080/",
          "height": 227
        },
        "id": "4mpMed_P3qK9",
        "outputId": "96912d7f-e61e-47a2-c74a-477ef67b7a0a"
      },
      "execution_count": null,
      "outputs": [
        {
          "output_type": "display_data",
          "data": {
            "text/plain": [
              "<Figure size 2700x360 with 15 Axes>"
            ],
            "image/png": "[encoded data removed]"
          },
          "metadata": {}
        }
      ]
    },
    {
      "cell_type": "markdown",
      "source": [
        "From the above set of plots, it would seem that many of the covariates (year, age, sex) have relationships with the outcome (considered_suicide). A few of the predictors appear to have very strong relationships with the outcome, includingsoda, breakfast, and physical activity. "
      ],
      "metadata": {
        "id": "IUVJMAjSr-2X"
      }
    },
    {
      "cell_type": "markdown",
      "source": [
        "Now, we will fit univariate regression models for each of the covariates/predictors. This may indicate which covariates/predictors have significant relationships to considered_suicide.\n",
        "\n",
        "Remember that our 'univariate' models will include each category of the original categorical variable. In this sense, they will technically not be, but conceptually will be, univariate. \n",
        "\n",
        "Let's start by fitting all univariate models for our covariates. "
      ],
      "metadata": {
        "id": "WrFAWiawucyH"
      }
    },
    {
      "cell_type": "code",
      "source": [
        "Xtrain = sub_districtData[['year_2017.0', 'year_2019.0']]\n",
        "ytrain = sub_districtData[['considered_suicide']]\n",
        "\n",
        "Xtrain = sm.add_constant(Xtrain)\n",
        "\n",
        "log_reg = sm.Logit(ytrain, Xtrain).fit()\n",
        "\n",
        "print(log_reg.summary())"
      ],
      "metadata": {
        "colab": {
          "base_uri": "https://localhost:8080/"
        },
        "id": "v8pigyt3AKe8",
        "outputId": "c5cd5242-5a0d-403a-a974-bbd5902fa1a8"
      },
      "execution_count": null,
      "outputs": [
        {
          "output_type": "stream",
          "name": "stderr",
          "text": [
            "/usr/local/lib/python3.8/dist-packages/statsmodels/tsa/tsatools.py:142: FutureWarning: In a future version of pandas all arguments of concat except for the argument 'objs' will be keyword-only\n",
            "  x = pd.concat(x[::order], 1)\n"
          ]
        },
        {
          "output_type": "stream",
          "name": "stdout",
          "text": [
            "Optimization terminated successfully.\n",
            "         Current function value: 0.445736\n",
            "         Iterations 6\n",
            "                           Logit Regression Results                           \n",
            "==============================================================================\n",
            "Dep. Variable:     considered_suicide   No. Observations:               145088\n",
            "Model:                          Logit   Df Residuals:                   145085\n",
            "Method:                           MLE   Df Model:                            2\n",
            "Date:                Mon, 12 Dec 2022   Pseudo R-squ.:                0.001027\n",
            "Time:                        19:41:26   Log-Likelihood:                -64671.\n",
            "converged:                       True   LL-Null:                       -64737.\n",
            "Covariance Type:            nonrobust   LLR p-value:                 1.341e-29\n",
            "===============================================================================\n",
            "                  coef    std err          z      P>|z|      [0.025      0.975]\n",
            "-------------------------------------------------------------------------------\n",
            "const          -1.7313      0.014   -127.007      0.000      -1.758      -1.705\n",
            "year_2017.0     0.0776      0.018      4.220      0.000       0.042       0.114\n",
            "year_2019.0     0.1982      0.018     11.216      0.000       0.164       0.233\n",
            "===============================================================================\n"
          ]
        }
      ]
    },
    {
      "cell_type": "code",
      "source": [
        "Xtrain = sub_districtData[['sex_2.0']]\n",
        "ytrain = sub_districtData[['considered_suicide']]\n",
        "\n",
        "Xtrain = sm.add_constant(Xtrain)\n",
        "\n",
        "log_reg = sm.Logit(ytrain, Xtrain).fit()\n",
        "\n",
        "print(log_reg.summary())"
      ],
      "metadata": {
        "colab": {
          "base_uri": "https://localhost:8080/"
        },
        "id": "oF9owRnCxJ5l",
        "outputId": "c9a9e13a-2707-406e-f479-d543f7916b6a"
      },
      "execution_count": null,
      "outputs": [
        {
          "output_type": "stream",
          "name": "stdout",
          "text": [
            "Optimization terminated successfully.\n",
            "         Current function value: 0.439970\n",
            "         Iterations 6\n"
          ]
        },
        {
          "output_type": "stream",
          "name": "stderr",
          "text": [
            "/usr/local/lib/python3.8/dist-packages/statsmodels/tsa/tsatools.py:142: FutureWarning: In a future version of pandas all arguments of concat except for the argument 'objs' will be keyword-only\n",
            "  x = pd.concat(x[::order], 1)\n"
          ]
        },
        {
          "output_type": "stream",
          "name": "stdout",
          "text": [
            "                           Logit Regression Results                           \n",
            "==============================================================================\n",
            "Dep. Variable:     considered_suicide   No. Observations:               145088\n",
            "Model:                          Logit   Df Residuals:                   145086\n",
            "Method:                           MLE   Df Model:                            1\n",
            "Date:                Mon, 12 Dec 2022   Pseudo R-squ.:                 0.01395\n",
            "Time:                        19:41:27   Log-Likelihood:                -63834.\n",
            "converged:                       True   LL-Null:                       -64737.\n",
            "Covariance Type:            nonrobust   LLR p-value:                     0.000\n",
            "==============================================================================\n",
            "                 coef    std err          z      P>|z|      [0.025      0.975]\n",
            "------------------------------------------------------------------------------\n",
            "const         -1.3658      0.009   -151.088      0.000      -1.383      -1.348\n",
            "sex_2.0       -0.6151      0.015    -41.785      0.000      -0.644      -0.586\n",
            "==============================================================================\n"
          ]
        }
      ]
    },
    {
      "cell_type": "code",
      "source": [
        "Xtrain = sub_districtData[['grade_2.0', 'grade_3.0', 'grade_4.0']]\n",
        "ytrain = sub_districtData[['considered_suicide']]\n",
        "\n",
        "Xtrain = sm.add_constant(Xtrain)\n",
        "\n",
        "log_reg = sm.Logit(ytrain, Xtrain).fit()\n",
        "\n",
        "print(log_reg.summary())"
      ],
      "metadata": {
        "colab": {
          "base_uri": "https://localhost:8080/"
        },
        "id": "XQV-3O-axKGO",
        "outputId": "97679c1c-2caa-4d80-ce75-0bd9a7686191"
      },
      "execution_count": null,
      "outputs": [
        {
          "output_type": "stream",
          "name": "stderr",
          "text": [
            "/usr/local/lib/python3.8/dist-packages/statsmodels/tsa/tsatools.py:142: FutureWarning: In a future version of pandas all arguments of concat except for the argument 'objs' will be keyword-only\n",
            "  x = pd.concat(x[::order], 1)\n"
          ]
        },
        {
          "output_type": "stream",
          "name": "stdout",
          "text": [
            "Optimization terminated successfully.\n",
            "         Current function value: 0.446063\n",
            "         Iterations 6\n",
            "                           Logit Regression Results                           \n",
            "==============================================================================\n",
            "Dep. Variable:     considered_suicide   No. Observations:               145088\n",
            "Model:                          Logit   Df Residuals:                   145084\n",
            "Method:                           MLE   Df Model:                            3\n",
            "Date:                Mon, 12 Dec 2022   Pseudo R-squ.:               0.0002937\n",
            "Time:                        19:41:29   Log-Likelihood:                -64718.\n",
            "converged:                       True   LL-Null:                       -64737.\n",
            "Covariance Type:            nonrobust   LLR p-value:                 2.783e-08\n",
            "==============================================================================\n",
            "                 coef    std err          z      P>|z|      [0.025      0.975]\n",
            "------------------------------------------------------------------------------\n",
            "const         -1.5752      0.013   -118.710      0.000      -1.601      -1.549\n",
            "grade_2.0     -0.0488      0.019     -2.555      0.011      -0.086      -0.011\n",
            "grade_3.0     -0.0578      0.020     -2.924      0.003      -0.096      -0.019\n",
            "grade_4.0     -0.1245      0.020     -6.138      0.000      -0.164      -0.085\n",
            "==============================================================================\n"
          ]
        }
      ]
    },
    {
      "cell_type": "code",
      "source": [
        "Xtrain = sub_districtData[['race4_2.0', 'race4_3.0', 'race4_4.0']]\n",
        "ytrain = sub_districtData[['considered_suicide']]\n",
        "\n",
        "Xtrain = sm.add_constant(Xtrain)\n",
        "\n",
        "log_reg = sm.Logit(ytrain, Xtrain).fit()\n",
        "\n",
        "print(log_reg.summary())"
      ],
      "metadata": {
        "colab": {
          "base_uri": "https://localhost:8080/"
        },
        "id": "UIyxT6b2ySDT",
        "outputId": "7552640e-2cc2-4d60-9520-e1f2efab7f66"
      },
      "execution_count": null,
      "outputs": [
        {
          "output_type": "stream",
          "name": "stderr",
          "text": [
            "/usr/local/lib/python3.8/dist-packages/statsmodels/tsa/tsatools.py:142: FutureWarning: In a future version of pandas all arguments of concat except for the argument 'objs' will be keyword-only\n",
            "  x = pd.concat(x[::order], 1)\n"
          ]
        },
        {
          "output_type": "stream",
          "name": "stdout",
          "text": [
            "Optimization terminated successfully.\n",
            "         Current function value: 0.446058\n",
            "         Iterations 6\n",
            "                           Logit Regression Results                           \n",
            "==============================================================================\n",
            "Dep. Variable:     considered_suicide   No. Observations:               145088\n",
            "Model:                          Logit   Df Residuals:                   145084\n",
            "Method:                           MLE   Df Model:                            3\n",
            "Date:                Mon, 12 Dec 2022   Pseudo R-squ.:               0.0003051\n",
            "Time:                        19:41:30   Log-Likelihood:                -64718.\n",
            "converged:                       True   LL-Null:                       -64737.\n",
            "Covariance Type:            nonrobust   LLR p-value:                 1.360e-08\n",
            "==============================================================================\n",
            "                 coef    std err          z      P>|z|      [0.025      0.975]\n",
            "------------------------------------------------------------------------------\n",
            "const         -1.5666      0.016   -100.595      0.000      -1.597      -1.536\n",
            "race4_2.0     -0.1190      0.022     -5.503      0.000      -0.161      -0.077\n",
            "race4_3.0     -0.0804      0.019     -4.189      0.000      -0.118      -0.043\n",
            "race4_4.0     -0.0177      0.023     -0.763      0.445      -0.063       0.028\n",
            "==============================================================================\n"
          ]
        }
      ]
    },
    {
      "cell_type": "markdown",
      "source": [
        "As evident from the above output, all covariates were found to be significant in their univariate models with q26. \n",
        "\n",
        "Now, let's examine the univariate relationships between our predictor set and the outcome. "
      ],
      "metadata": {
        "id": "1p_HdMIsyrLJ"
      }
    },
    {
      "cell_type": "code",
      "source": [
        "Xtrain = sub_districtData[['fruit_juice_2.0', 'fruit_juice_3.0', 'fruit_juice_4.0', 'fruit_juice_5.0', 'fruit_juice_6.0', 'fruit_juice_7.0']]\n",
        "ytrain = sub_districtData[['considered_suicide']]\n",
        "\n",
        "Xtrain = sm.add_constant(Xtrain)\n",
        "\n",
        "log_reg = sm.Logit(ytrain, Xtrain).fit()\n",
        "\n",
        "print(log_reg.summary())"
      ],
      "metadata": {
        "colab": {
          "base_uri": "https://localhost:8080/"
        },
        "id": "iHIVgsnTzsT-",
        "outputId": "62d8161e-701f-42ec-9076-e64724ef2d91"
      },
      "execution_count": null,
      "outputs": [
        {
          "output_type": "stream",
          "name": "stderr",
          "text": [
            "/usr/local/lib/python3.8/dist-packages/statsmodels/tsa/tsatools.py:142: FutureWarning: In a future version of pandas all arguments of concat except for the argument 'objs' will be keyword-only\n",
            "  x = pd.concat(x[::order], 1)\n"
          ]
        },
        {
          "output_type": "stream",
          "name": "stdout",
          "text": [
            "Optimization terminated successfully.\n",
            "         Current function value: 0.446017\n",
            "         Iterations 6\n",
            "                           Logit Regression Results                           \n",
            "==============================================================================\n",
            "Dep. Variable:     considered_suicide   No. Observations:               145088\n",
            "Model:                          Logit   Df Residuals:                   145081\n",
            "Method:                           MLE   Df Model:                            6\n",
            "Date:                Mon, 12 Dec 2022   Pseudo R-squ.:               0.0003973\n",
            "Time:                        19:41:31   Log-Likelihood:                -64712.\n",
            "converged:                       True   LL-Null:                       -64737.\n",
            "Covariance Type:            nonrobust   LLR p-value:                 2.421e-09\n",
            "===================================================================================\n",
            "                      coef    std err          z      P>|z|      [0.025      0.975]\n",
            "-----------------------------------------------------------------------------------\n",
            "const              -1.5751      0.011   -140.083      0.000      -1.597      -1.553\n",
            "fruit_juice_2.0    -0.0986      0.017     -5.850      0.000      -0.132      -0.066\n",
            "fruit_juice_3.0    -0.0499      0.023     -2.145      0.032      -0.096      -0.004\n",
            "fruit_juice_4.0    -0.1175      0.035     -3.327      0.001      -0.187      -0.048\n",
            "fruit_juice_5.0    -0.1370      0.035     -3.888      0.000      -0.206      -0.068\n",
            "fruit_juice_6.0    -0.1445      0.046     -3.120      0.002      -0.235      -0.054\n",
            "fruit_juice_7.0    -0.0105      0.034     -0.303      0.762      -0.078       0.057\n",
            "===================================================================================\n"
          ]
        }
      ]
    },
    {
      "cell_type": "code",
      "source": [
        "Xtrain = sub_districtData[['fruit_2.0', 'fruit_3.0', 'fruit_4.0', 'fruit_5.0', 'fruit_6.0', 'fruit_7.0']]\n",
        "ytrain = sub_districtData[['considered_suicide']]\n",
        "\n",
        "Xtrain = sm.add_constant(Xtrain)\n",
        "\n",
        "log_reg = sm.Logit(ytrain, Xtrain).fit()\n",
        "\n",
        "print(log_reg.summary())"
      ],
      "metadata": {
        "colab": {
          "base_uri": "https://localhost:8080/"
        },
        "id": "cyKRpfFo07OR",
        "outputId": "ebb4ec09-9f81-43da-f7ba-d5248f6ef085"
      },
      "execution_count": null,
      "outputs": [
        {
          "output_type": "stream",
          "name": "stderr",
          "text": [
            "/usr/local/lib/python3.8/dist-packages/statsmodels/tsa/tsatools.py:142: FutureWarning: In a future version of pandas all arguments of concat except for the argument 'objs' will be keyword-only\n",
            "  x = pd.concat(x[::order], 1)\n"
          ]
        },
        {
          "output_type": "stream",
          "name": "stdout",
          "text": [
            "Optimization terminated successfully.\n",
            "         Current function value: 0.445545\n",
            "         Iterations 6\n",
            "                           Logit Regression Results                           \n",
            "==============================================================================\n",
            "Dep. Variable:     considered_suicide   No. Observations:               145088\n",
            "Model:                          Logit   Df Residuals:                   145081\n",
            "Method:                           MLE   Df Model:                            6\n",
            "Date:                Mon, 12 Dec 2022   Pseudo R-squ.:                0.001454\n",
            "Time:                        19:41:32   Log-Likelihood:                -64643.\n",
            "converged:                       True   LL-Null:                       -64737.\n",
            "Covariance Type:            nonrobust   LLR p-value:                 6.111e-38\n",
            "==============================================================================\n",
            "                 coef    std err          z      P>|z|      [0.025      0.975]\n",
            "------------------------------------------------------------------------------\n",
            "const         -1.5085      0.014   -109.895      0.000      -1.535      -1.482\n",
            "fruit_2.0     -0.1089      0.019     -5.884      0.000      -0.145      -0.073\n",
            "fruit_3.0     -0.1405      0.022     -6.415      0.000      -0.183      -0.098\n",
            "fruit_4.0     -0.2574      0.030     -8.631      0.000      -0.316      -0.199\n",
            "fruit_5.0     -0.3350      0.030    -11.208      0.000      -0.394      -0.276\n",
            "fruit_6.0     -0.2603      0.040     -6.494      0.000      -0.339      -0.182\n",
            "fruit_7.0     -0.1046      0.033     -3.135      0.002      -0.170      -0.039\n",
            "==============================================================================\n"
          ]
        }
      ]
    },
    {
      "cell_type": "code",
      "source": [
        "Xtrain = sub_districtData[['green_salad_2.0', 'green_salad_3.0', 'green_salad_4.0', 'green_salad_5.0', 'green_salad_6.0', 'green_salad_7.0']]\n",
        "ytrain = sub_districtData[['considered_suicide']]\n",
        "\n",
        "Xtrain = sm.add_constant(Xtrain)\n",
        "\n",
        "log_reg = sm.Logit(ytrain, Xtrain).fit()\n",
        "\n",
        "print(log_reg.summary())"
      ],
      "metadata": {
        "colab": {
          "base_uri": "https://localhost:8080/"
        },
        "id": "oZ1sAg3V1Ec7",
        "outputId": "4f9b83b8-00c2-4cb8-dc80-2f0b33fbf04d"
      },
      "execution_count": null,
      "outputs": [
        {
          "output_type": "stream",
          "name": "stderr",
          "text": [
            "/usr/local/lib/python3.8/dist-packages/statsmodels/tsa/tsatools.py:142: FutureWarning: In a future version of pandas all arguments of concat except for the argument 'objs' will be keyword-only\n",
            "  x = pd.concat(x[::order], 1)\n"
          ]
        },
        {
          "output_type": "stream",
          "name": "stdout",
          "text": [
            "Optimization terminated successfully.\n",
            "         Current function value: 0.446054\n",
            "         Iterations 6\n",
            "                           Logit Regression Results                           \n",
            "==============================================================================\n",
            "Dep. Variable:     considered_suicide   No. Observations:               145088\n",
            "Model:                          Logit   Df Residuals:                   145081\n",
            "Method:                           MLE   Df Model:                            6\n",
            "Date:                Mon, 12 Dec 2022   Pseudo R-squ.:               0.0003144\n",
            "Time:                        19:41:34   Log-Likelihood:                -64717.\n",
            "converged:                       True   LL-Null:                       -64737.\n",
            "Covariance Type:            nonrobust   LLR p-value:                 3.309e-07\n",
            "===================================================================================\n",
            "                      coef    std err          z      P>|z|      [0.025      0.975]\n",
            "-----------------------------------------------------------------------------------\n",
            "const              -1.6537      0.008   -195.705      0.000      -1.670      -1.637\n",
            "green_salad_2.0     0.0685      0.018      3.760      0.000       0.033       0.104\n",
            "green_salad_3.0     0.1175      0.033      3.557      0.000       0.053       0.182\n",
            "green_salad_4.0     0.0357      0.044      0.820      0.412      -0.050       0.121\n",
            "green_salad_5.0     0.2083      0.065      3.197      0.001       0.081       0.336\n",
            "green_salad_6.0     0.2244      0.105      2.145      0.032       0.019       0.429\n",
            "green_salad_7.0     0.1970      0.075      2.633      0.008       0.050       0.344\n",
            "===================================================================================\n"
          ]
        }
      ]
    },
    {
      "cell_type": "code",
      "source": [
        "Xtrain = sub_districtData[['potatoes_2.0', 'potatoes_3.0', 'potatoes_4.0', 'potatoes_5.0', 'potatoes_6.0', 'potatoes_7.0']]\n",
        "ytrain = sub_districtData[['considered_suicide']]\n",
        "\n",
        "Xtrain = sm.add_constant(Xtrain)\n",
        "\n",
        "log_reg = sm.Logit(ytrain, Xtrain).fit()\n",
        "\n",
        "print(log_reg.summary())"
      ],
      "metadata": {
        "colab": {
          "base_uri": "https://localhost:8080/"
        },
        "id": "JIv9QH11aXw_",
        "outputId": "1941fe21-206c-4df9-afb2-5865e830d42d"
      },
      "execution_count": null,
      "outputs": [
        {
          "output_type": "stream",
          "name": "stderr",
          "text": [
            "/usr/local/lib/python3.8/dist-packages/statsmodels/tsa/tsatools.py:142: FutureWarning: In a future version of pandas all arguments of concat except for the argument 'objs' will be keyword-only\n",
            "  x = pd.concat(x[::order], 1)\n"
          ]
        },
        {
          "output_type": "stream",
          "name": "stdout",
          "text": [
            "Optimization terminated successfully.\n",
            "         Current function value: 0.445911\n",
            "         Iterations 6\n",
            "                           Logit Regression Results                           \n",
            "==============================================================================\n",
            "Dep. Variable:     considered_suicide   No. Observations:               145088\n",
            "Model:                          Logit   Df Residuals:                   145081\n",
            "Method:                           MLE   Df Model:                            6\n",
            "Date:                Mon, 12 Dec 2022   Pseudo R-squ.:               0.0006351\n",
            "Time:                        19:41:35   Log-Likelihood:                -64696.\n",
            "converged:                       True   LL-Null:                       -64737.\n",
            "Covariance Type:            nonrobust   LLR p-value:                 1.238e-15\n",
            "================================================================================\n",
            "                   coef    std err          z      P>|z|      [0.025      0.975]\n",
            "--------------------------------------------------------------------------------\n",
            "const           -1.6565      0.009   -193.094      0.000      -1.673      -1.640\n",
            "potatoes_2.0     0.0371      0.017      2.160      0.031       0.003       0.071\n",
            "potatoes_3.0     0.2204      0.033      6.691      0.000       0.156       0.285\n",
            "potatoes_4.0     0.1945      0.054      3.572      0.000       0.088       0.301\n",
            "potatoes_5.0     0.2608      0.077      3.370      0.001       0.109       0.412\n",
            "potatoes_6.0     0.1701      0.114      1.493      0.135      -0.053       0.393\n",
            "potatoes_7.0     0.3330      0.073      4.535      0.000       0.189       0.477\n",
            "================================================================================\n"
          ]
        }
      ]
    },
    {
      "cell_type": "code",
      "source": [
        "Xtrain = sub_districtData[['carrots_2.0', 'carrots_3.0', 'carrots_4.0', 'carrots_5.0', 'carrots_6.0', 'carrots_7.0']]\n",
        "ytrain = sub_districtData[['considered_suicide']]\n",
        "\n",
        "Xtrain = sm.add_constant(Xtrain)\n",
        "\n",
        "log_reg = sm.Logit(ytrain, Xtrain).fit()\n",
        "\n",
        "print(log_reg.summary())"
      ],
      "metadata": {
        "colab": {
          "base_uri": "https://localhost:8080/"
        },
        "id": "sQQO3-31adhO",
        "outputId": "c751ed47-5c28-451d-cf3b-a86a8f68f1a0"
      },
      "execution_count": null,
      "outputs": [
        {
          "output_type": "stream",
          "name": "stderr",
          "text": [
            "/usr/local/lib/python3.8/dist-packages/statsmodels/tsa/tsatools.py:142: FutureWarning: In a future version of pandas all arguments of concat except for the argument 'objs' will be keyword-only\n",
            "  x = pd.concat(x[::order], 1)\n"
          ]
        },
        {
          "output_type": "stream",
          "name": "stdout",
          "text": [
            "Optimization terminated successfully.\n",
            "         Current function value: 0.445960\n",
            "         Iterations 6\n",
            "                           Logit Regression Results                           \n",
            "==============================================================================\n",
            "Dep. Variable:     considered_suicide   No. Observations:               145088\n",
            "Model:                          Logit   Df Residuals:                   145081\n",
            "Method:                           MLE   Df Model:                            6\n",
            "Date:                Mon, 12 Dec 2022   Pseudo R-squ.:               0.0005232\n",
            "Time:                        19:41:36   Log-Likelihood:                -64704.\n",
            "converged:                       True   LL-Null:                       -64737.\n",
            "Covariance Type:            nonrobust   LLR p-value:                 1.184e-12\n",
            "===============================================================================\n",
            "                  coef    std err          z      P>|z|      [0.025      0.975]\n",
            "-------------------------------------------------------------------------------\n",
            "const          -1.6496      0.008   -203.665      0.000      -1.666      -1.634\n",
            "carrots_2.0     0.0353      0.019      1.812      0.070      -0.003       0.073\n",
            "carrots_3.0     0.1896      0.038      5.004      0.000       0.115       0.264\n",
            "carrots_4.0     0.1703      0.056      3.060      0.002       0.061       0.279\n",
            "carrots_5.0     0.3393      0.079      4.289      0.000       0.184       0.494\n",
            "carrots_6.0     0.3494      0.115      3.043      0.002       0.124       0.574\n",
            "carrots_7.0     0.2874      0.082      3.509      0.000       0.127       0.448\n",
            "===============================================================================\n"
          ]
        }
      ]
    },
    {
      "cell_type": "code",
      "source": [
        "Xtrain = sub_districtData[['other_vegetables_2.0', 'other_vegetables_3.0', 'other_vegetables_4.0', 'other_vegetables_5.0', 'other_vegetables_6.0', 'other_vegetables_7.0']]\n",
        "ytrain = sub_districtData[['considered_suicide']]\n",
        "\n",
        "Xtrain = sm.add_constant(Xtrain)\n",
        "\n",
        "log_reg = sm.Logit(ytrain, Xtrain).fit()\n",
        "\n",
        "print(log_reg.summary())"
      ],
      "metadata": {
        "colab": {
          "base_uri": "https://localhost:8080/"
        },
        "id": "eIp-nUU3adnf",
        "outputId": "3fe4dea7-1aff-4cc1-d78b-ce3dab480d65"
      },
      "execution_count": null,
      "outputs": [
        {
          "output_type": "stream",
          "name": "stderr",
          "text": [
            "/usr/local/lib/python3.8/dist-packages/statsmodels/tsa/tsatools.py:142: FutureWarning: In a future version of pandas all arguments of concat except for the argument 'objs' will be keyword-only\n",
            "  x = pd.concat(x[::order], 1)\n"
          ]
        },
        {
          "output_type": "stream",
          "name": "stdout",
          "text": [
            "Optimization terminated successfully.\n",
            "         Current function value: 0.445981\n",
            "         Iterations 6\n",
            "                           Logit Regression Results                           \n",
            "==============================================================================\n",
            "Dep. Variable:     considered_suicide   No. Observations:               145088\n",
            "Model:                          Logit   Df Residuals:                   145081\n",
            "Method:                           MLE   Df Model:                            6\n",
            "Date:                Mon, 12 Dec 2022   Pseudo R-squ.:               0.0004774\n",
            "Time:                        19:41:37   Log-Likelihood:                -64706.\n",
            "converged:                       True   LL-Null:                       -64737.\n",
            "Covariance Type:            nonrobust   LLR p-value:                 1.930e-11\n",
            "========================================================================================\n",
            "                           coef    std err          z      P>|z|      [0.025      0.975]\n",
            "----------------------------------------------------------------------------------------\n",
            "const                   -1.6631      0.009   -180.268      0.000      -1.681      -1.645\n",
            "other_vegetables_2.0     0.0293      0.019      1.583      0.113      -0.007       0.066\n",
            "other_vegetables_3.0     0.1416      0.023      6.112      0.000       0.096       0.187\n",
            "other_vegetables_4.0     0.1113      0.034      3.263      0.001       0.044       0.178\n",
            "other_vegetables_5.0     0.1053      0.042      2.483      0.013       0.022       0.188\n",
            "other_vegetables_6.0     0.2435      0.065      3.722      0.000       0.115       0.372\n",
            "other_vegetables_7.0     0.1593      0.058      2.725      0.006       0.045       0.274\n",
            "========================================================================================\n"
          ]
        }
      ]
    },
    {
      "cell_type": "code",
      "source": [
        "Xtrain = sub_districtData[['soda_2.0', 'soda_3.0', 'soda_4.0', 'soda_5.0', 'soda_6.0', 'soda_7.0']]\n",
        "ytrain = sub_districtData[['considered_suicide']]\n",
        "\n",
        "Xtrain = sm.add_constant(Xtrain)\n",
        "\n",
        "log_reg = sm.Logit(ytrain, Xtrain).fit()\n",
        "\n",
        "print(log_reg.summary())"
      ],
      "metadata": {
        "colab": {
          "base_uri": "https://localhost:8080/"
        },
        "id": "fQPnaTgAaqRb",
        "outputId": "f44f09b3-8dfd-453b-9232-f5462c63bd18"
      },
      "execution_count": null,
      "outputs": [
        {
          "output_type": "stream",
          "name": "stderr",
          "text": [
            "/usr/local/lib/python3.8/dist-packages/statsmodels/tsa/tsatools.py:142: FutureWarning: In a future version of pandas all arguments of concat except for the argument 'objs' will be keyword-only\n",
            "  x = pd.concat(x[::order], 1)\n"
          ]
        },
        {
          "output_type": "stream",
          "name": "stdout",
          "text": [
            "Optimization terminated successfully.\n",
            "         Current function value: 0.445634\n",
            "         Iterations 6\n",
            "                           Logit Regression Results                           \n",
            "==============================================================================\n",
            "Dep. Variable:     considered_suicide   No. Observations:               145088\n",
            "Model:                          Logit   Df Residuals:                   145081\n",
            "Method:                           MLE   Df Model:                            6\n",
            "Date:                Mon, 12 Dec 2022   Pseudo R-squ.:                0.001254\n",
            "Time:                        19:41:38   Log-Likelihood:                -64656.\n",
            "converged:                       True   LL-Null:                       -64737.\n",
            "Covariance Type:            nonrobust   LLR p-value:                 1.831e-32\n",
            "==============================================================================\n",
            "                 coef    std err          z      P>|z|      [0.025      0.975]\n",
            "------------------------------------------------------------------------------\n",
            "const         -1.6254      0.010   -155.096      0.000      -1.646      -1.605\n",
            "soda_2.0      -0.0972      0.017     -5.826      0.000      -0.130      -0.065\n",
            "soda_3.0       0.0715      0.024      3.038      0.002       0.025       0.118\n",
            "soda_4.0       0.0653      0.036      1.832      0.067      -0.005       0.135\n",
            "soda_5.0       0.0772      0.040      1.942      0.052      -0.001       0.155\n",
            "soda_6.0       0.1220      0.053      2.298      0.022       0.018       0.226\n",
            "soda_7.0       0.3603      0.040      8.997      0.000       0.282       0.439\n",
            "==============================================================================\n"
          ]
        }
      ]
    },
    {
      "cell_type": "code",
      "source": [
        "Xtrain = sub_districtData[['milk_2.0', 'milk_3.0', 'milk_4.0', 'milk_5.0', 'milk_6.0', 'milk_7.0']]\n",
        "ytrain = sub_districtData[['considered_suicide']]\n",
        "\n",
        "Xtrain = sm.add_constant(Xtrain)\n",
        "\n",
        "log_reg = sm.Logit(ytrain, Xtrain).fit()\n",
        "\n",
        "print(log_reg.summary())"
      ],
      "metadata": {
        "colab": {
          "base_uri": "https://localhost:8080/"
        },
        "id": "mVLyEbFXa485",
        "outputId": "371779f0-fd3c-408c-ecea-8ba638512587"
      },
      "execution_count": null,
      "outputs": [
        {
          "output_type": "stream",
          "name": "stderr",
          "text": [
            "/usr/local/lib/python3.8/dist-packages/statsmodels/tsa/tsatools.py:142: FutureWarning: In a future version of pandas all arguments of concat except for the argument 'objs' will be keyword-only\n",
            "  x = pd.concat(x[::order], 1)\n"
          ]
        },
        {
          "output_type": "stream",
          "name": "stdout",
          "text": [
            "Optimization terminated successfully.\n",
            "         Current function value: 0.445192\n",
            "         Iterations 6\n",
            "                           Logit Regression Results                           \n",
            "==============================================================================\n",
            "Dep. Variable:     considered_suicide   No. Observations:               145088\n",
            "Model:                          Logit   Df Residuals:                   145081\n",
            "Method:                           MLE   Df Model:                            6\n",
            "Date:                Mon, 12 Dec 2022   Pseudo R-squ.:                0.002246\n",
            "Time:                        19:41:40   Log-Likelihood:                -64592.\n",
            "converged:                       True   LL-Null:                       -64737.\n",
            "Covariance Type:            nonrobust   LLR p-value:                 7.693e-60\n",
            "==============================================================================\n",
            "                 coef    std err          z      P>|z|      [0.025      0.975]\n",
            "------------------------------------------------------------------------------\n",
            "const         -1.5377      0.009   -168.956      0.000      -1.556      -1.520\n",
            "milk_2.0      -0.1946      0.019    -10.253      0.000      -0.232      -0.157\n",
            "milk_3.0      -0.2195      0.027     -8.242      0.000      -0.272      -0.167\n",
            "milk_4.0      -0.3836      0.032    -12.123      0.000      -0.446      -0.322\n",
            "milk_5.0      -0.2637      0.037     -7.090      0.000      -0.337      -0.191\n",
            "milk_6.0      -0.0957      0.057     -1.684      0.092      -0.207       0.016\n",
            "milk_7.0      -0.0228      0.051     -0.450      0.653      -0.122       0.077\n",
            "==============================================================================\n"
          ]
        }
      ]
    },
    {
      "cell_type": "code",
      "source": [
        "Xtrain = sub_districtData[['breakfast_2.0', 'breakfast_3.0', 'breakfast_4.0', 'breakfast_5.0', 'breakfast_6.0', 'breakfast_7.0', 'breakfast_8.0']]\n",
        "ytrain = sub_districtData[['considered_suicide']]\n",
        "\n",
        "Xtrain = sm.add_constant(Xtrain)\n",
        "\n",
        "log_reg = sm.Logit(ytrain, Xtrain).fit()\n",
        "\n",
        "print(log_reg.summary())"
      ],
      "metadata": {
        "colab": {
          "base_uri": "https://localhost:8080/"
        },
        "id": "z6WHhMxta-4i",
        "outputId": "47f8fc80-1390-48b8-d0bc-cf29281bc516"
      },
      "execution_count": null,
      "outputs": [
        {
          "output_type": "stream",
          "name": "stderr",
          "text": [
            "/usr/local/lib/python3.8/dist-packages/statsmodels/tsa/tsatools.py:142: FutureWarning: In a future version of pandas all arguments of concat except for the argument 'objs' will be keyword-only\n",
            "  x = pd.concat(x[::order], 1)\n"
          ]
        },
        {
          "output_type": "stream",
          "name": "stdout",
          "text": [
            "Optimization terminated successfully.\n",
            "         Current function value: 0.441608\n",
            "         Iterations 6\n",
            "                           Logit Regression Results                           \n",
            "==============================================================================\n",
            "Dep. Variable:     considered_suicide   No. Observations:               145088\n",
            "Model:                          Logit   Df Residuals:                   145080\n",
            "Method:                           MLE   Df Model:                            7\n",
            "Date:                Mon, 12 Dec 2022   Pseudo R-squ.:                 0.01028\n",
            "Time:                        19:41:41   Log-Likelihood:                -64072.\n",
            "converged:                       True   LL-Null:                       -64737.\n",
            "Covariance Type:            nonrobust   LLR p-value:                3.540e-283\n",
            "=================================================================================\n",
            "                    coef    std err          z      P>|z|      [0.025      0.975]\n",
            "---------------------------------------------------------------------------------\n",
            "const            -1.4833      0.011   -139.108      0.000      -1.504      -1.462\n",
            "breakfast_2.0     0.1964      0.027      7.274      0.000       0.143       0.249\n",
            "breakfast_3.0     0.0136      0.026      0.528      0.598      -0.037       0.064\n",
            "breakfast_4.0    -0.0478      0.028     -1.710      0.087      -0.103       0.007\n",
            "breakfast_5.0    -0.1463      0.032     -4.514      0.000      -0.210      -0.083\n",
            "breakfast_6.0    -0.2365      0.033     -7.234      0.000      -0.301      -0.172\n",
            "breakfast_7.0    -0.3666      0.040     -9.156      0.000      -0.445      -0.288\n",
            "breakfast_8.0    -0.6361      0.021    -30.746      0.000      -0.677      -0.596\n",
            "=================================================================================\n"
          ]
        }
      ]
    },
    {
      "cell_type": "code",
      "source": [
        "Xtrain = sub_districtData[['physical_activity_2.0', 'physical_activity_3.0', 'physical_activity_4.0', 'physical_activity_5.0', 'physical_activity_6.0', 'physical_activity_7.0', 'physical_activity_8.0']]\n",
        "ytrain = sub_districtData[['considered_suicide']]\n",
        "\n",
        "Xtrain = sm.add_constant(Xtrain)\n",
        "\n",
        "log_reg = sm.Logit(ytrain, Xtrain).fit()\n",
        "\n",
        "print(log_reg.summary())"
      ],
      "metadata": {
        "colab": {
          "base_uri": "https://localhost:8080/"
        },
        "id": "mQ0Z8GIL75nC",
        "outputId": "03448e90-8596-4466-aeb1-8ea7033a8101"
      },
      "execution_count": null,
      "outputs": [
        {
          "output_type": "stream",
          "name": "stderr",
          "text": [
            "/usr/local/lib/python3.8/dist-packages/statsmodels/tsa/tsatools.py:142: FutureWarning: In a future version of pandas all arguments of concat except for the argument 'objs' will be keyword-only\n",
            "  x = pd.concat(x[::order], 1)\n"
          ]
        },
        {
          "output_type": "stream",
          "name": "stdout",
          "text": [
            "Optimization terminated successfully.\n",
            "         Current function value: 0.444387\n",
            "         Iterations 6\n",
            "                           Logit Regression Results                           \n",
            "==============================================================================\n",
            "Dep. Variable:     considered_suicide   No. Observations:               145088\n",
            "Model:                          Logit   Df Residuals:                   145080\n",
            "Method:                           MLE   Df Model:                            7\n",
            "Date:                Mon, 12 Dec 2022   Pseudo R-squ.:                0.004050\n",
            "Time:                        19:41:42   Log-Likelihood:                -64475.\n",
            "converged:                       True   LL-Null:                       -64737.\n",
            "Covariance Type:            nonrobust   LLR p-value:                4.488e-109\n",
            "=========================================================================================\n",
            "                            coef    std err          z      P>|z|      [0.025      0.975]\n",
            "-----------------------------------------------------------------------------------------\n",
            "const                    -1.4787      0.012   -122.000      0.000      -1.502      -1.455\n",
            "physical_activity_2.0     0.0113      0.026      0.433      0.665      -0.040       0.062\n",
            "physical_activity_3.0    -0.0603      0.025     -2.414      0.016      -0.109      -0.011\n",
            "physical_activity_4.0    -0.1518      0.025     -6.064      0.000      -0.201      -0.103\n",
            "physical_activity_5.0    -0.2227      0.028     -7.977      0.000      -0.277      -0.168\n",
            "physical_activity_6.0    -0.3292      0.026    -12.507      0.000      -0.381      -0.278\n",
            "physical_activity_7.0    -0.3402      0.037     -9.225      0.000      -0.412      -0.268\n",
            "physical_activity_8.0    -0.4195      0.023    -18.502      0.000      -0.464      -0.375\n",
            "=========================================================================================\n"
          ]
        }
      ]
    },
    {
      "cell_type": "markdown",
      "source": [
        "Next, let's take a look at the unadjusted model (i.e., no covariates included) including all predictors."
      ],
      "metadata": {
        "id": "2I-qSkyHbTU2"
      }
    },
    {
      "cell_type": "code",
      "source": [
        "Xtrain = sub_districtData.drop(columns = ['considered_suicide', 'year_2017.0', 'year_2019.0', 'sex_2.0', 'grade_2.0', 'grade_3.0', 'grade_4.0', 'race4_2.0', 'race4_3.0', 'race4_4.0'])\n",
        "ytrain = sub_districtData[['considered_suicide']]\n",
        "\n",
        "Xtrain = sm.add_constant(Xtrain)\n",
        "\n",
        "log_reg = sm.Logit(ytrain, Xtrain).fit()\n",
        "\n",
        "print(log_reg.summary())"
      ],
      "metadata": {
        "colab": {
          "base_uri": "https://localhost:8080/"
        },
        "id": "iWEYhpQFbWxY",
        "outputId": "b3dc00f7-f4c8-4bb4-d6c7-9f3ee0fa6531"
      },
      "execution_count": null,
      "outputs": [
        {
          "output_type": "stream",
          "name": "stderr",
          "text": [
            "/usr/local/lib/python3.8/dist-packages/statsmodels/tsa/tsatools.py:142: FutureWarning: In a future version of pandas all arguments of concat except for the argument 'objs' will be keyword-only\n",
            "  x = pd.concat(x[::order], 1)\n"
          ]
        },
        {
          "output_type": "stream",
          "name": "stdout",
          "text": [
            "Optimization terminated successfully.\n",
            "         Current function value: 0.437870\n",
            "         Iterations 6\n",
            "                           Logit Regression Results                           \n",
            "==============================================================================\n",
            "Dep. Variable:     considered_suicide   No. Observations:               145088\n",
            "Model:                          Logit   Df Residuals:                   145019\n",
            "Method:                           MLE   Df Model:                           68\n",
            "Date:                Mon, 12 Dec 2022   Pseudo R-squ.:                 0.01866\n",
            "Time:                        19:41:45   Log-Likelihood:                -63530.\n",
            "converged:                       True   LL-Null:                       -64737.\n",
            "Covariance Type:            nonrobust   LLR p-value:                     0.000\n",
            "=========================================================================================\n",
            "                            coef    std err          z      P>|z|      [0.025      0.975]\n",
            "-----------------------------------------------------------------------------------------\n",
            "const                    -0.4927      0.062     -8.008      0.000      -0.613      -0.372\n",
            "age_2.0                  -0.7721      0.086     -8.958      0.000      -0.941      -0.603\n",
            "age_3.0                  -0.9370      0.063    -14.768      0.000      -1.061      -0.813\n",
            "age_4.0                  -0.9622      0.063    -15.391      0.000      -1.085      -0.840\n",
            "age_5.0                  -0.9610      0.062    -15.376      0.000      -1.083      -0.838\n",
            "age_6.0                  -1.0380      0.063    -16.530      0.000      -1.161      -0.915\n",
            "age_7.0                  -1.0754      0.065    -16.454      0.000      -1.203      -0.947\n",
            "fruit_juice_2.0          -0.0427      0.019     -2.296      0.022      -0.079      -0.006\n",
            "fruit_juice_3.0           0.0013      0.025      0.053      0.958      -0.048       0.050\n",
            "fruit_juice_4.0          -0.0237      0.037     -0.641      0.522      -0.096       0.049\n",
            "fruit_juice_5.0          -0.0389      0.037     -1.052      0.293      -0.112       0.034\n",
            "fruit_juice_6.0          -0.0909      0.048     -1.891      0.059      -0.185       0.003\n",
            "fruit_juice_7.0          -0.0246      0.039     -0.629      0.529      -0.101       0.052\n",
            "fruit_2.0                 0.0003      0.021      0.013      0.990      -0.041       0.042\n",
            "fruit_3.0                -0.0145      0.025     -0.577      0.564      -0.064       0.035\n",
            "fruit_4.0                -0.1031      0.033     -3.155      0.002      -0.167      -0.039\n",
            "fruit_5.0                -0.1680      0.033     -5.064      0.000      -0.233      -0.103\n",
            "fruit_6.0                -0.1148      0.043     -2.650      0.008      -0.200      -0.030\n",
            "fruit_7.0                -0.0116      0.039     -0.294      0.769      -0.089       0.066\n",
            "green_salad_2.0           0.0603      0.023      2.666      0.008       0.016       0.105\n",
            "green_salad_3.0           0.0745      0.037      2.007      0.045       0.002       0.147\n",
            "green_salad_4.0           0.0185      0.048      0.383      0.702      -0.076       0.113\n",
            "green_salad_5.0           0.1388      0.071      1.960      0.050   -1.45e-05       0.278\n",
            "green_salad_6.0           0.0998      0.110      0.904      0.366      -0.117       0.316\n",
            "green_salad_7.0           0.0115      0.093      0.124      0.901      -0.171       0.194\n",
            "potatoes_2.0              0.0229      0.022      1.063      0.288      -0.019       0.065\n",
            "potatoes_3.0              0.1274      0.036      3.499      0.000       0.056       0.199\n",
            "potatoes_4.0              0.0733      0.059      1.248      0.212      -0.042       0.188\n",
            "potatoes_5.0              0.0964      0.082      1.169      0.243      -0.065       0.258\n",
            "potatoes_6.0             -0.0320      0.120     -0.266      0.790      -0.268       0.204\n",
            "potatoes_7.0              0.1198      0.090      1.332      0.183      -0.056       0.296\n",
            "carrots_2.0               0.0298      0.023      1.275      0.202      -0.016       0.076\n",
            "carrots_3.0               0.1358      0.042      3.266      0.001       0.054       0.217\n",
            "carrots_4.0               0.1237      0.060      2.049      0.041       0.005       0.242\n",
            "carrots_5.0               0.2143      0.085      2.521      0.012       0.048       0.381\n",
            "carrots_6.0               0.2065      0.122      1.692      0.091      -0.033       0.446\n",
            "carrots_7.0               0.1542      0.103      1.498      0.134      -0.048       0.356\n",
            "other_vegetables_2.0      0.0656      0.024      2.770      0.006       0.019       0.112\n",
            "other_vegetables_3.0      0.2032      0.029      6.972      0.000       0.146       0.260\n",
            "other_vegetables_4.0      0.2180      0.040      5.488      0.000       0.140       0.296\n",
            "other_vegetables_5.0      0.2338      0.048      4.864      0.000       0.140       0.328\n",
            "other_vegetables_6.0      0.3170      0.072      4.432      0.000       0.177       0.457\n",
            "other_vegetables_7.0      0.1253      0.073      1.727      0.084      -0.017       0.267\n",
            "soda_2.0                 -0.0036      0.018     -0.198      0.843      -0.039       0.032\n",
            "soda_3.0                  0.1205      0.025      4.843      0.000       0.072       0.169\n",
            "soda_4.0                  0.1402      0.037      3.791      0.000       0.068       0.213\n",
            "soda_5.0                  0.1440      0.041      3.515      0.000       0.064       0.224\n",
            "soda_6.0                  0.1786      0.054      3.291      0.001       0.072       0.285\n",
            "soda_7.0                  0.4126      0.043      9.651      0.000       0.329       0.496\n",
            "milk_2.0                 -0.0968      0.021     -4.628      0.000      -0.138      -0.056\n",
            "milk_3.0                 -0.0913      0.028     -3.205      0.001      -0.147      -0.035\n",
            "milk_4.0                 -0.1905      0.034     -5.673      0.000      -0.256      -0.125\n",
            "milk_5.0                 -0.0350      0.039     -0.894      0.371      -0.112       0.042\n",
            "milk_6.0                  0.0888      0.059      1.509      0.131      -0.027       0.204\n",
            "milk_7.0                  0.0976      0.055      1.783      0.075      -0.010       0.205\n",
            "breakfast_2.0             0.2089      0.028      7.381      0.000       0.153       0.264\n",
            "breakfast_3.0             0.0398      0.027      1.462      0.144      -0.014       0.093\n",
            "breakfast_4.0            -0.0133      0.030     -0.449      0.653      -0.071       0.045\n",
            "breakfast_5.0            -0.0934      0.034     -2.755      0.006      -0.160      -0.027\n",
            "breakfast_6.0            -0.1651      0.034     -4.815      0.000      -0.232      -0.098\n",
            "breakfast_7.0            -0.2981      0.042     -7.181      0.000      -0.379      -0.217\n",
            "breakfast_8.0            -0.5532      0.023    -23.741      0.000      -0.599      -0.508\n",
            "physical_activity_2.0     0.0023      0.027      0.086      0.932      -0.051       0.056\n",
            "physical_activity_3.0    -0.0393      0.026     -1.484      0.138      -0.091       0.013\n",
            "physical_activity_4.0    -0.0977      0.027     -3.660      0.000      -0.150      -0.045\n",
            "physical_activity_5.0    -0.1413      0.030     -4.769      0.000      -0.199      -0.083\n",
            "physical_activity_6.0    -0.2297      0.028     -8.155      0.000      -0.285      -0.175\n",
            "physical_activity_7.0    -0.2439      0.039     -6.322      0.000      -0.320      -0.168\n",
            "physical_activity_8.0    -0.3265      0.025    -13.043      0.000      -0.376      -0.277\n",
            "=========================================================================================\n"
          ]
        }
      ]
    },
    {
      "cell_type": "markdown",
      "source": [
        "Finally, let's look at the covariate adjusted model including all predictors. "
      ],
      "metadata": {
        "id": "MCFmnNztbW_z"
      }
    },
    {
      "cell_type": "code",
      "source": [
        "Xtrain = sub_districtData.drop(columns = 'considered_suicide')\n",
        "ytrain = sub_districtData[['considered_suicide']]\n",
        "\n",
        "Xtrain = sm.add_constant(Xtrain)\n",
        "\n",
        "log_reg = sm.Logit(ytrain, Xtrain).fit()\n",
        "\n",
        "print(log_reg.summary())"
      ],
      "metadata": {
        "colab": {
          "base_uri": "https://localhost:8080/"
        },
        "id": "8aAB7pVzbcEp",
        "outputId": "9fe9ab98-21cf-43c9-8dc9-7f79634bfcb1"
      },
      "execution_count": null,
      "outputs": [
        {
          "output_type": "stream",
          "name": "stderr",
          "text": [
            "/usr/local/lib/python3.8/dist-packages/statsmodels/tsa/tsatools.py:142: FutureWarning: In a future version of pandas all arguments of concat except for the argument 'objs' will be keyword-only\n",
            "  x = pd.concat(x[::order], 1)\n"
          ]
        },
        {
          "output_type": "stream",
          "name": "stdout",
          "text": [
            "Optimization terminated successfully.\n",
            "         Current function value: 0.431375\n",
            "         Iterations 6\n",
            "                           Logit Regression Results                           \n",
            "==============================================================================\n",
            "Dep. Variable:     considered_suicide   No. Observations:               145088\n",
            "Model:                          Logit   Df Residuals:                   145010\n",
            "Method:                           MLE   Df Model:                           77\n",
            "Date:                Mon, 12 Dec 2022   Pseudo R-squ.:                 0.03321\n",
            "Time:                        19:41:48   Log-Likelihood:                -62587.\n",
            "converged:                       True   LL-Null:                       -64737.\n",
            "Covariance Type:            nonrobust   LLR p-value:                     0.000\n",
            "=========================================================================================\n",
            "                            coef    std err          z      P>|z|      [0.025      0.975]\n",
            "-----------------------------------------------------------------------------------------\n",
            "const                    -0.2390      0.066     -3.638      0.000      -0.368      -0.110\n",
            "year_2017.0               0.0909      0.019      4.834      0.000       0.054       0.128\n",
            "year_2019.0               0.1362      0.019      7.272      0.000       0.100       0.173\n",
            "age_2.0                  -0.7735      0.087     -8.841      0.000      -0.945      -0.602\n",
            "age_3.0                  -0.9065      0.065    -13.966      0.000      -1.034      -0.779\n",
            "age_4.0                  -0.9024      0.064    -14.101      0.000      -1.028      -0.777\n",
            "age_5.0                  -0.8579      0.065    -13.189      0.000      -0.985      -0.730\n",
            "age_6.0                  -0.8893      0.067    -13.273      0.000      -1.021      -0.758\n",
            "age_7.0                  -0.8768      0.071    -12.381      0.000      -1.016      -0.738\n",
            "sex_2.0                  -0.6261      0.015    -40.875      0.000      -0.656      -0.596\n",
            "grade_2.0                -0.0300      0.024     -1.247      0.212      -0.077       0.017\n",
            "grade_3.0                -0.0558      0.031     -1.829      0.067      -0.116       0.004\n",
            "grade_4.0                -0.1120      0.036     -3.077      0.002      -0.183      -0.041\n",
            "race4_2.0                -0.1980      0.023     -8.728      0.000      -0.242      -0.154\n",
            "race4_3.0                -0.1098      0.020     -5.480      0.000      -0.149      -0.071\n",
            "race4_4.0                 0.0534      0.024      2.226      0.026       0.006       0.100\n",
            "fruit_juice_2.0          -0.0457      0.019     -2.446      0.014      -0.082      -0.009\n",
            "fruit_juice_3.0           0.0501      0.025      1.983      0.047       0.001       0.100\n",
            "fruit_juice_4.0           0.0117      0.037      0.314      0.754      -0.061       0.085\n",
            "fruit_juice_5.0           0.0244      0.037      0.652      0.514      -0.049       0.098\n",
            "fruit_juice_6.0          -0.0278      0.049     -0.572      0.568      -0.123       0.067\n",
            "fruit_juice_7.0           0.0543      0.040      1.372      0.170      -0.023       0.132\n",
            "fruit_2.0                -0.1069      0.021     -4.991      0.000      -0.149      -0.065\n",
            "fruit_3.0                -0.1206      0.025     -4.754      0.000      -0.170      -0.071\n",
            "fruit_4.0                -0.2242      0.033     -6.777      0.000      -0.289      -0.159\n",
            "fruit_5.0                -0.2991      0.034     -8.909      0.000      -0.365      -0.233\n",
            "fruit_6.0                -0.2459      0.044     -5.624      0.000      -0.332      -0.160\n",
            "fruit_7.0                -0.1229      0.040     -3.098      0.002      -0.201      -0.045\n",
            "green_salad_2.0           0.0167      0.023      0.731      0.465      -0.028       0.061\n",
            "green_salad_3.0           0.0315      0.037      0.840      0.401      -0.042       0.105\n",
            "green_salad_4.0          -0.0236      0.049     -0.485      0.628      -0.119       0.072\n",
            "green_salad_5.0           0.1008      0.071      1.412      0.158      -0.039       0.241\n",
            "green_salad_6.0           0.0410      0.112      0.368      0.713      -0.178       0.260\n",
            "green_salad_7.0          -0.0263      0.094     -0.280      0.779      -0.211       0.158\n",
            "potatoes_2.0              0.0287      0.022      1.326      0.185      -0.014       0.071\n",
            "potatoes_3.0              0.1815      0.037      4.943      0.000       0.110       0.253\n",
            "potatoes_4.0              0.1167      0.059      1.974      0.048       0.001       0.233\n",
            "potatoes_5.0              0.1622      0.083      1.950      0.051      -0.001       0.325\n",
            "potatoes_6.0             -0.0120      0.121     -0.099      0.921      -0.250       0.226\n",
            "potatoes_7.0              0.1511      0.091      1.667      0.096      -0.027       0.329\n",
            "carrots_2.0               0.0314      0.024      1.331      0.183      -0.015       0.078\n",
            "carrots_3.0               0.1756      0.042      4.184      0.000       0.093       0.258\n",
            "carrots_4.0               0.1646      0.061      2.711      0.007       0.046       0.284\n",
            "carrots_5.0               0.2745      0.086      3.206      0.001       0.107       0.442\n",
            "carrots_6.0               0.2853      0.123      2.315      0.021       0.044       0.527\n",
            "carrots_7.0               0.2124      0.104      2.046      0.041       0.009       0.416\n",
            "other_vegetables_2.0      0.0504      0.024      2.104      0.035       0.003       0.097\n",
            "other_vegetables_3.0      0.1851      0.030      6.268      0.000       0.127       0.243\n",
            "other_vegetables_4.0      0.1768      0.040      4.403      0.000       0.098       0.256\n",
            "other_vegetables_5.0      0.1793      0.049      3.693      0.000       0.084       0.275\n",
            "other_vegetables_6.0      0.2607      0.072      3.614      0.000       0.119       0.402\n",
            "other_vegetables_7.0      0.0772      0.073      1.054      0.292      -0.066       0.221\n",
            "soda_2.0                  0.0017      0.018      0.095      0.924      -0.034       0.038\n",
            "soda_3.0                  0.1711      0.025      6.801      0.000       0.122       0.220\n",
            "soda_4.0                  0.1831      0.037      4.909      0.000       0.110       0.256\n",
            "soda_5.0                  0.1910      0.041      4.619      0.000       0.110       0.272\n",
            "soda_6.0                  0.1945      0.055      3.552      0.000       0.087       0.302\n",
            "soda_7.0                  0.4394      0.043     10.166      0.000       0.355       0.524\n",
            "milk_2.0                 -0.0608      0.021     -2.843      0.004      -0.103      -0.019\n",
            "milk_3.0                  0.0130      0.029      0.447      0.655      -0.044       0.070\n",
            "milk_4.0                 -0.1063      0.034     -3.118      0.002      -0.173      -0.040\n",
            "milk_5.0                  0.1030      0.040      2.589      0.010       0.025       0.181\n",
            "milk_6.0                  0.2484      0.060      4.166      0.000       0.132       0.365\n",
            "milk_7.0                  0.2388      0.056      4.299      0.000       0.130       0.348\n",
            "breakfast_2.0             0.1853      0.029      6.473      0.000       0.129       0.241\n",
            "breakfast_3.0             0.0027      0.028      0.097      0.923      -0.051       0.057\n",
            "breakfast_4.0            -0.0540      0.030     -1.809      0.070      -0.113       0.005\n",
            "breakfast_5.0            -0.1284      0.034     -3.748      0.000      -0.196      -0.061\n",
            "breakfast_6.0            -0.2018      0.035     -5.835      0.000      -0.270      -0.134\n",
            "breakfast_7.0            -0.3427      0.042     -8.191      0.000      -0.425      -0.261\n",
            "breakfast_8.0            -0.5783      0.024    -24.523      0.000      -0.625      -0.532\n",
            "physical_activity_2.0    -0.0187      0.027     -0.681      0.496      -0.073       0.035\n",
            "physical_activity_3.0    -0.0608      0.027     -2.285      0.022      -0.113      -0.009\n",
            "physical_activity_4.0    -0.1002      0.027     -3.731      0.000      -0.153      -0.048\n",
            "physical_activity_5.0    -0.1124      0.030     -3.767      0.000      -0.171      -0.054\n",
            "physical_activity_6.0    -0.1985      0.028     -7.000      0.000      -0.254      -0.143\n",
            "physical_activity_7.0    -0.1892      0.039     -4.858      0.000      -0.266      -0.113\n",
            "physical_activity_8.0    -0.2344      0.025     -9.273      0.000      -0.284      -0.185\n",
            "=========================================================================================\n"
          ]
        }
      ]
    },
    {
      "cell_type": "markdown",
      "source": [
        "Now, we can transform these coefficient results for the adjusted model to get our odds ratios."
      ],
      "metadata": {
        "id": "4tr30VcQsin6"
      }
    },
    {
      "cell_type": "code",
      "source": [
        "log_odds_ratios = log_reg.params #Logit coefficients\n",
        "odds_ratios = np.exp(log_odds_ratios) #exponentiate to get odds ratio\n",
        "\n",
        "dict(sorted(odds_ratios.items(), key=lambda item: item[1]))"
      ],
      "metadata": {
        "colab": {
          "base_uri": "https://localhost:8080/"
        },
        "id": "yrDSx8IjteRH",
        "outputId": "36d9eefd-cafe-4fba-b867-2e19f3b41987"
      },
      "execution_count": null,
      "outputs": [
        {
          "output_type": "execute_result",
          "data": {
            "text/plain": [
              "{'age_3.0': 0.40392492945140995,\n",
              " 'age_4.0': 0.4056031458265498,\n",
              " 'age_6.0': 0.41093735601492415,\n",
              " 'age_7.0': 0.41610332912592907,\n",
              " 'age_5.0': 0.4240325647334001,\n",
              " 'age_2.0': 0.4614041001797305,\n",
              " 'sex_2.0': 0.5346839524026209,\n",
              " 'breakfast_8.0': 0.5608389643535708,\n",
              " 'breakfast_7.0': 0.7098746130758268,\n",
              " 'fruit_5.0': 0.7415128189571385,\n",
              " 'fruit_6.0': 0.7820117668737716,\n",
              " 'const': 0.7874304736689556,\n",
              " 'physical_activity_8.0': 0.7910784531940673,\n",
              " 'fruit_4.0': 0.7991889484641534,\n",
              " 'breakfast_6.0': 0.8172375747553035,\n",
              " 'physical_activity_6.0': 0.8199851041691757,\n",
              " 'race4_2.0': 0.8203802148592265,\n",
              " 'physical_activity_7.0': 0.827626755432782,\n",
              " 'breakfast_5.0': 0.8795180343418114,\n",
              " 'fruit_7.0': 0.884390100265916,\n",
              " 'fruit_3.0': 0.8863912859184407,\n",
              " 'physical_activity_5.0': 0.8936965337696103,\n",
              " 'grade_4.0': 0.8940733736388567,\n",
              " 'race4_3.0': 0.8960536874281907,\n",
              " 'fruit_2.0': 0.898651340927478,\n",
              " 'milk_4.0': 0.899120690920282,\n",
              " 'physical_activity_4.0': 0.9046818694285551,\n",
              " 'physical_activity_3.0': 0.9409979849648029,\n",
              " 'milk_2.0': 0.9410005126521535,\n",
              " 'grade_3.0': 0.9457226993062545,\n",
              " 'breakfast_4.0': 0.9474182544606979,\n",
              " 'fruit_juice_2.0': 0.9553711059846894,\n",
              " 'grade_2.0': 0.9704097411315804,\n",
              " 'fruit_juice_6.0': 0.9726224634271652,\n",
              " 'green_salad_7.0': 0.9740186754905577,\n",
              " 'green_salad_4.0': 0.9766704669570792,\n",
              " 'physical_activity_2.0': 0.9814550889185388,\n",
              " 'potatoes_6.0': 0.9881011645414142,\n",
              " 'soda_2.0': 1.0017396657758522,\n",
              " 'breakfast_3.0': 1.0026728897475636,\n",
              " 'fruit_juice_4.0': 1.0117513109917142,\n",
              " 'milk_3.0': 1.0130760819014146,\n",
              " 'green_salad_2.0': 1.0168395867743723,\n",
              " 'fruit_juice_5.0': 1.0246722403084705,\n",
              " 'potatoes_2.0': 1.0291570827429772,\n",
              " 'carrots_2.0': 1.0318675727515803,\n",
              " 'green_salad_3.0': 1.0319672884157816,\n",
              " 'green_salad_6.0': 1.0418529735380364,\n",
              " 'fruit_juice_3.0': 1.0513437318686996,\n",
              " 'other_vegetables_2.0': 1.0517329850594361,\n",
              " 'race4_4.0': 1.0548479644746709,\n",
              " 'fruit_juice_7.0': 1.0558302076930413,\n",
              " 'other_vegetables_7.0': 1.0802428027448543,\n",
              " 'year_2017.0': 1.0951077290790558,\n",
              " 'green_salad_5.0': 1.1061099980283498,\n",
              " 'milk_5.0': 1.1085078982770031,\n",
              " 'potatoes_4.0': 1.1237329484056784,\n",
              " 'year_2019.0': 1.1459493247470929,\n",
              " 'potatoes_7.0': 1.163061419850134,\n",
              " 'potatoes_5.0': 1.1760487737986258,\n",
              " 'carrots_4.0': 1.1789667708739773,\n",
              " 'soda_3.0': 1.1866092898957656,\n",
              " 'carrots_3.0': 1.1919127906711715,\n",
              " 'other_vegetables_4.0': 1.1934004237812454,\n",
              " 'other_vegetables_5.0': 1.1964338942452304,\n",
              " 'potatoes_3.0': 1.1990018712467343,\n",
              " 'soda_4.0': 1.2008822468026559,\n",
              " 'other_vegetables_3.0': 1.2033416610264278,\n",
              " 'breakfast_2.0': 1.2036367883997359,\n",
              " 'soda_5.0': 1.2104347661002743,\n",
              " 'soda_6.0': 1.214724561109419,\n",
              " 'carrots_7.0': 1.2366690686892288,\n",
              " 'milk_7.0': 1.2697441465687667,\n",
              " 'milk_6.0': 1.2819997084902002,\n",
              " 'other_vegetables_6.0': 1.2978901931135305,\n",
              " 'carrots_5.0': 1.3158456119269368,\n",
              " 'carrots_6.0': 1.3302258271064462,\n",
              " 'soda_7.0': 1.5517853703525382}"
            ]
          },
          "metadata": {},
          "execution_count": 44
        }
      ]
    },
    {
      "cell_type": "markdown",
      "source": [
        "## Part 2: Predictive Modeling"
      ],
      "metadata": {
        "id": "roj3VEW8XBhn"
      }
    },
    {
      "cell_type": "markdown",
      "source": [
        "Now, we explore different types of classification models, and see which is best at predicting our outcome using the variables of interest. \n",
        "\n",
        "First, let's perform a train-test split to prepare our data."
      ],
      "metadata": {
        "id": "rigu9v3w76Zk"
      }
    },
    {
      "cell_type": "code",
      "source": [
        "Y = sub_districtData.considered_suicide\n",
        "X = sub_districtData.drop(columns = 'considered_suicide')\n",
        "\n",
        "X_train, X_test, Y_train, Y_test = train_test_split(X, Y, test_size = 0.2, random_state = 10)"
      ],
      "metadata": {
        "id": "N-OTfsxm8HBW"
      },
      "execution_count": null,
      "outputs": []
    },
    {
      "cell_type": "markdown",
      "source": [
        "Now, let's fit our first model: a standard classification tree. "
      ],
      "metadata": {
        "id": "IaCyanwk9Usb"
      }
    },
    {
      "cell_type": "code",
      "source": [
        "## fit model\n",
        "DT_class = DecisionTreeClassifier(max_depth = None, random_state = 10)\n",
        "DT_class.fit(X_train, Y_train)\n",
        "\n",
        "## calculate predictions on test set\n",
        "DT_class_pred = DT_class.predict(X_test)\n",
        "\n",
        "## output confusion matrix + accuracy\n",
        "classificationSummary(Y_test, DT_class_pred)"
      ],
      "metadata": {
        "colab": {
          "base_uri": "https://localhost:8080/"
        },
        "id": "ixdI7rXu9Xbo",
        "outputId": "61869407-42e8-4f2d-8502-1f6209d6f678"
      },
      "execution_count": null,
      "outputs": [
        {
          "output_type": "stream",
          "name": "stdout",
          "text": [
            "Confusion Matrix (Accuracy 0.7900)\n",
            "\n",
            "       Prediction\n",
            "Actual     0     1\n",
            "     0 21218  3023\n",
            "     1  3070  1707\n"
          ]
        }
      ]
    },
    {
      "cell_type": "markdown",
      "source": [
        "Next, let's fit a model using the bagging ensemble method."
      ],
      "metadata": {
        "id": "sJl3Ehhw-Vaq"
      }
    },
    {
      "cell_type": "code",
      "source": [
        "## fit model\n",
        "DT_class_bag = RandomForestClassifier(max_features = len(X_train.columns), random_state = 10)\n",
        "DT_class_bag.fit(X_train, Y_train)\n",
        "\n",
        "## calculate predictions on test set\n",
        "DT_class_bag_pred = DT_class_bag.predict(X_test)\n",
        "\n",
        "## output confusion matrix + accuracy\n",
        "classificationSummary(Y_test, DT_class_bag_pred)"
      ],
      "metadata": {
        "colab": {
          "base_uri": "https://localhost:8080/"
        },
        "id": "PvV-CFFc_iSK",
        "outputId": "af598781-878f-49fa-d981-83c70a21d62d"
      },
      "execution_count": null,
      "outputs": [
        {
          "output_type": "stream",
          "name": "stdout",
          "text": [
            "Confusion Matrix (Accuracy 0.8593)\n",
            "\n",
            "       Prediction\n",
            "Actual     0     1\n",
            "     0 23807   434\n",
            "     1  3648  1129\n"
          ]
        }
      ]
    },
    {
      "cell_type": "markdown",
      "source": [
        "Now, let's fit a model using the random forest ensemble method."
      ],
      "metadata": {
        "id": "XzGil7mwABpt"
      }
    },
    {
      "cell_type": "code",
      "source": [
        "## fit model\n",
        "DT_class_RF = RandomForestClassifier(max_features = round(np.sqrt(len(X_train.columns))), random_state = 10)\n",
        "DT_class_RF.fit(X_train, Y_train)\n",
        "\n",
        "## calculate predictions on test set\n",
        "DT_class_RF_pred = DT_class_RF.predict(X_test)\n",
        "\n",
        "## output confusion matrix + accuracy\n",
        "classificationSummary(Y_test, DT_class_RF_pred)"
      ],
      "metadata": {
        "colab": {
          "base_uri": "https://localhost:8080/"
        },
        "id": "UfsWFSPQAEaH",
        "outputId": "0f945787-ad4b-46bb-f22c-e633387bf299"
      },
      "execution_count": null,
      "outputs": [
        {
          "output_type": "stream",
          "name": "stdout",
          "text": [
            "Confusion Matrix (Accuracy 0.8631)\n",
            "\n",
            "       Prediction\n",
            "Actual     0     1\n",
            "     0 23989   252\n",
            "     1  3721  1056\n"
          ]
        }
      ]
    },
    {
      "cell_type": "markdown",
      "source": [
        "Finally, let's fit a model using the boosting ensemble method."
      ],
      "metadata": {
        "id": "K64WCALZAEjw"
      }
    },
    {
      "cell_type": "code",
      "source": [
        "## fit model\n",
        "DT_class_boost = GradientBoostingClassifier(n_estimators = 500, learning_rate = 0.01, random_state = 10)\n",
        "DT_class_boost.fit(X_train, Y_train)\n",
        "\n",
        "## calculate predictions on test set\n",
        "DT_class_boost_pred = DT_class_boost.predict(X_test)\n",
        "\n",
        "## output confusion matrix + accuracy\n",
        "classificationSummary(Y_test, DT_class_boost_pred)"
      ],
      "metadata": {
        "colab": {
          "base_uri": "https://localhost:8080/"
        },
        "id": "3_0VZ6ElAQqn",
        "outputId": "53f4da9c-3ba3-4751-a796-335bb905b0ab"
      },
      "execution_count": null,
      "outputs": [
        {
          "output_type": "stream",
          "name": "stdout",
          "text": [
            "Confusion Matrix (Accuracy 0.8354)\n",
            "\n",
            "       Prediction\n",
            "Actual     0     1\n",
            "     0 24241     0\n",
            "     1  4777     0\n"
          ]
        }
      ]
    },
    {
      "cell_type": "markdown",
      "source": [
        "Although test definitely improved with each of the ensemble methods, the sensitivity is quite poor in each case. In other words, the models do a poor job of predicting a positive outcome - this is quite concerning, considering the gravity of the outcome!\n",
        "\n",
        "One thing we can do to fix this is tune the decision threshold (i.e., the value of predicted probability that separates event from non-event classification). Let's do this for the boosted model."
      ],
      "metadata": {
        "id": "R0kOLw9GttKZ"
      }
    },
    {
      "cell_type": "code",
      "source": [
        "for i in np.linspace(0, 0.5, 6):\n",
        "  ## calculate predictions on test set\n",
        "  DT_class_boost_pred = (DT_class_bag.predict_proba(X_test)[:,1] >= i).astype(bool)\n",
        "\n",
        "  ## output confusion matrix + accuracy\n",
        "  print(\"threshold: \")\n",
        "  print(i)\n",
        "  classificationSummary(Y_test, DT_class_boost_pred)"
      ],
      "metadata": {
        "colab": {
          "base_uri": "https://localhost:8080/"
        },
        "id": "LrrbsUu2uv9V",
        "outputId": "c7de125e-0527-4290-cb0b-df86bfeb491d"
      },
      "execution_count": null,
      "outputs": [
        {
          "output_type": "stream",
          "name": "stdout",
          "text": [
            "threshold: \n",
            "0.0\n",
            "Confusion Matrix (Accuracy 0.1646)\n",
            "\n",
            "       Prediction\n",
            "Actual     0     1\n",
            "     0     0 24241\n",
            "     1     0  4777\n",
            "threshold: \n",
            "0.1\n",
            "Confusion Matrix (Accuracy 0.4726)\n",
            "\n",
            "       Prediction\n",
            "Actual     0     1\n",
            "     0  9583 14658\n",
            "     1   645  4132\n",
            "threshold: \n",
            "0.2\n",
            "Confusion Matrix (Accuracy 0.6692)\n",
            "\n",
            "       Prediction\n",
            "Actual     0     1\n",
            "     0 16360  7881\n",
            "     1  1719  3058\n",
            "threshold: \n",
            "0.30000000000000004\n",
            "Confusion Matrix (Accuracy 0.7899)\n",
            "\n",
            "       Prediction\n",
            "Actual     0     1\n",
            "     0 20861  3380\n",
            "     1  2718  2059\n",
            "threshold: \n",
            "0.4\n",
            "Confusion Matrix (Accuracy 0.8361)\n",
            "\n",
            "       Prediction\n",
            "Actual     0     1\n",
            "     0 22837  1404\n",
            "     1  3352  1425\n",
            "threshold: \n",
            "0.5\n",
            "Confusion Matrix (Accuracy 0.8584)\n",
            "\n",
            "       Prediction\n",
            "Actual     0     1\n",
            "     0 23776   465\n",
            "     1  3643  1134\n"
          ]
        }
      ]
    },
    {
      "cell_type": "markdown",
      "source": [
        "## Limitations"
      ],
      "metadata": {
        "id": "aA-Wl_yZLIiF"
      }
    },
    {
      "cell_type": "markdown",
      "source": [
        "- may have been better to collapse categories for the predictors\n",
        "- could do much more in-depth modeling to improve predictive performance\n",
        "- only looked at relatively small subset of one of the datasets!"
      ],
      "metadata": {
        "id": "ems39QcmLMMi"
      }
    }
  ]
}